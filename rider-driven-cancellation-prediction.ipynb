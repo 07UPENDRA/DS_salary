{
 "cells": [
  {
   "cell_type": "code",
   "execution_count": 1,
   "id": "2f7b2f1e",
   "metadata": {
    "execution": {
     "iopub.execute_input": "2022-02-23T10:32:24.535360Z",
     "iopub.status.busy": "2022-02-23T10:32:24.534403Z",
     "iopub.status.idle": "2022-02-23T10:32:30.986692Z",
     "shell.execute_reply": "2022-02-23T10:32:30.985700Z",
     "shell.execute_reply.started": "2022-02-23T06:14:27.581201Z"
    },
    "papermill": {
     "duration": 6.51546,
     "end_time": "2022-02-23T10:32:30.986893",
     "exception": false,
     "start_time": "2022-02-23T10:32:24.471433",
     "status": "completed"
    },
    "tags": []
   },
   "outputs": [],
   "source": [
    "import warnings\n",
    "warnings.filterwarnings('ignore')\n",
    "from sklearn.metrics import confusion_matrix,accuracy_score,classification_report\n",
    "from sklearn.metrics import roc_auc_score,roc_curve,precision_recall_curve,plot_precision_recall_curve\n",
    "import tensorflow as tf\n",
    "from tensorflow import keras\n",
    "\n",
    "import os\n",
    "import tempfile\n",
    "\n",
    "import matplotlib as mpl\n",
    "import matplotlib.pyplot as plt\n",
    "import numpy as np\n",
    "import pandas as pd\n",
    "import seaborn as sns\n",
    "\n",
    "from collections import Counter"
   ]
  },
  {
   "cell_type": "code",
   "execution_count": 2,
   "id": "b236e15d",
   "metadata": {
    "execution": {
     "iopub.execute_input": "2022-02-23T10:32:31.090972Z",
     "iopub.status.busy": "2022-02-23T10:32:31.090299Z",
     "iopub.status.idle": "2022-02-23T10:32:35.132949Z",
     "shell.execute_reply": "2022-02-23T10:32:35.132167Z",
     "shell.execute_reply.started": "2022-02-23T06:14:27.590779Z"
    },
    "papermill": {
     "duration": 4.096543,
     "end_time": "2022-02-23T10:32:35.133120",
     "exception": false,
     "start_time": "2022-02-23T10:32:31.036577",
     "status": "completed"
    },
    "tags": []
   },
   "outputs": [],
   "source": [
    "dataset = pd.read_csv('../input/cascade-cup-22/train.csv')\n",
    "test_dataset = pd.read_csv('../input/cascade-cup-22/test.csv')"
   ]
  },
  {
   "cell_type": "code",
   "execution_count": 3,
   "id": "2b65f392",
   "metadata": {
    "execution": {
     "iopub.execute_input": "2022-02-23T10:32:35.241874Z",
     "iopub.status.busy": "2022-02-23T10:32:35.241000Z",
     "iopub.status.idle": "2022-02-23T10:32:35.270977Z",
     "shell.execute_reply": "2022-02-23T10:32:35.271530Z",
     "shell.execute_reply.started": "2022-02-23T06:14:29.912068Z"
    },
    "papermill": {
     "duration": 0.087559,
     "end_time": "2022-02-23T10:32:35.271765",
     "exception": false,
     "start_time": "2022-02-23T10:32:35.184206",
     "status": "completed"
    },
    "tags": []
   },
   "outputs": [
    {
     "data": {
      "text/html": [
       "<div>\n",
       "<style scoped>\n",
       "    .dataframe tbody tr th:only-of-type {\n",
       "        vertical-align: middle;\n",
       "    }\n",
       "\n",
       "    .dataframe tbody tr th {\n",
       "        vertical-align: top;\n",
       "    }\n",
       "\n",
       "    .dataframe thead th {\n",
       "        text-align: right;\n",
       "    }\n",
       "</style>\n",
       "<table border=\"1\" class=\"dataframe\">\n",
       "  <thead>\n",
       "    <tr style=\"text-align: right;\">\n",
       "      <th></th>\n",
       "      <th>order_time</th>\n",
       "      <th>order_id</th>\n",
       "      <th>order_date</th>\n",
       "      <th>allot_time</th>\n",
       "      <th>accept_time</th>\n",
       "      <th>pickup_time</th>\n",
       "      <th>delivered_time</th>\n",
       "      <th>rider_id</th>\n",
       "      <th>first_mile_distance</th>\n",
       "      <th>last_mile_distance</th>\n",
       "      <th>alloted_orders</th>\n",
       "      <th>delivered_orders</th>\n",
       "      <th>cancelled</th>\n",
       "      <th>undelivered_orders</th>\n",
       "      <th>lifetime_order_count</th>\n",
       "      <th>reassignment_method</th>\n",
       "      <th>reassignment_reason</th>\n",
       "      <th>reassigned_order</th>\n",
       "      <th>session_time</th>\n",
       "      <th>cancelled_time</th>\n",
       "    </tr>\n",
       "  </thead>\n",
       "  <tbody>\n",
       "    <tr>\n",
       "      <th>0</th>\n",
       "      <td>2021-01-26 02:21:35</td>\n",
       "      <td>556753</td>\n",
       "      <td>2021-01-26 00:00:00</td>\n",
       "      <td>2021-01-26 02:21:59</td>\n",
       "      <td>2021-01-26 02:22:08</td>\n",
       "      <td>2021-01-26 02:32:51</td>\n",
       "      <td>2021-01-26 02:49:47</td>\n",
       "      <td>11696</td>\n",
       "      <td>1.5666</td>\n",
       "      <td>2.65</td>\n",
       "      <td>46.0</td>\n",
       "      <td>46.0</td>\n",
       "      <td>0</td>\n",
       "      <td>0.0</td>\n",
       "      <td>621.0</td>\n",
       "      <td>NaN</td>\n",
       "      <td>NaN</td>\n",
       "      <td>NaN</td>\n",
       "      <td>NaN</td>\n",
       "      <td>NaN</td>\n",
       "    </tr>\n",
       "    <tr>\n",
       "      <th>1</th>\n",
       "      <td>2021-01-26 02:33:16</td>\n",
       "      <td>556754</td>\n",
       "      <td>2021-01-26 00:00:00</td>\n",
       "      <td>2021-01-26 02:33:57</td>\n",
       "      <td>2021-01-26 02:34:45</td>\n",
       "      <td>2021-01-26 02:50:25</td>\n",
       "      <td>2021-01-26 03:11:15</td>\n",
       "      <td>18117</td>\n",
       "      <td>2.5207</td>\n",
       "      <td>2.76</td>\n",
       "      <td>8.0</td>\n",
       "      <td>8.0</td>\n",
       "      <td>0</td>\n",
       "      <td>0.0</td>\n",
       "      <td>105.0</td>\n",
       "      <td>NaN</td>\n",
       "      <td>NaN</td>\n",
       "      <td>NaN</td>\n",
       "      <td>3.266667</td>\n",
       "      <td>NaN</td>\n",
       "    </tr>\n",
       "    <tr>\n",
       "      <th>2</th>\n",
       "      <td>2021-01-26 02:39:49</td>\n",
       "      <td>556755</td>\n",
       "      <td>2021-01-26 00:00:00</td>\n",
       "      <td>2021-01-26 02:39:57</td>\n",
       "      <td>2021-01-26 02:40:13</td>\n",
       "      <td>2021-01-26 02:56:00</td>\n",
       "      <td>2021-01-26 03:12:46</td>\n",
       "      <td>18623</td>\n",
       "      <td>2.2074</td>\n",
       "      <td>4.80</td>\n",
       "      <td>1.0</td>\n",
       "      <td>1.0</td>\n",
       "      <td>0</td>\n",
       "      <td>0.0</td>\n",
       "      <td>66.0</td>\n",
       "      <td>NaN</td>\n",
       "      <td>NaN</td>\n",
       "      <td>NaN</td>\n",
       "      <td>9.816667</td>\n",
       "      <td>NaN</td>\n",
       "    </tr>\n",
       "    <tr>\n",
       "      <th>3</th>\n",
       "      <td>2021-01-26 02:47:53</td>\n",
       "      <td>556756</td>\n",
       "      <td>2021-01-26 00:00:00</td>\n",
       "      <td>2021-01-26 02:48:25</td>\n",
       "      <td>2021-01-26 02:49:06</td>\n",
       "      <td>2021-01-26 03:21:51</td>\n",
       "      <td>2021-01-26 03:41:05</td>\n",
       "      <td>15945</td>\n",
       "      <td>2.1894</td>\n",
       "      <td>6.38</td>\n",
       "      <td>1.0</td>\n",
       "      <td>1.0</td>\n",
       "      <td>0</td>\n",
       "      <td>0.0</td>\n",
       "      <td>127.0</td>\n",
       "      <td>NaN</td>\n",
       "      <td>NaN</td>\n",
       "      <td>NaN</td>\n",
       "      <td>17.533333</td>\n",
       "      <td>NaN</td>\n",
       "    </tr>\n",
       "    <tr>\n",
       "      <th>4</th>\n",
       "      <td>2021-01-26 03:06:30</td>\n",
       "      <td>556757</td>\n",
       "      <td>2021-01-26 00:00:00</td>\n",
       "      <td>2021-01-26 03:07:21</td>\n",
       "      <td>2021-01-26 03:07:57</td>\n",
       "      <td>2021-01-26 03:31:38</td>\n",
       "      <td>2021-01-26 04:00:15</td>\n",
       "      <td>17589</td>\n",
       "      <td>2.7870</td>\n",
       "      <td>4.01</td>\n",
       "      <td>34.0</td>\n",
       "      <td>34.0</td>\n",
       "      <td>0</td>\n",
       "      <td>0.0</td>\n",
       "      <td>84.0</td>\n",
       "      <td>NaN</td>\n",
       "      <td>NaN</td>\n",
       "      <td>NaN</td>\n",
       "      <td>1.350000</td>\n",
       "      <td>NaN</td>\n",
       "    </tr>\n",
       "  </tbody>\n",
       "</table>\n",
       "</div>"
      ],
      "text/plain": [
       "            order_time  order_id           order_date           allot_time  \\\n",
       "0  2021-01-26 02:21:35    556753  2021-01-26 00:00:00  2021-01-26 02:21:59   \n",
       "1  2021-01-26 02:33:16    556754  2021-01-26 00:00:00  2021-01-26 02:33:57   \n",
       "2  2021-01-26 02:39:49    556755  2021-01-26 00:00:00  2021-01-26 02:39:57   \n",
       "3  2021-01-26 02:47:53    556756  2021-01-26 00:00:00  2021-01-26 02:48:25   \n",
       "4  2021-01-26 03:06:30    556757  2021-01-26 00:00:00  2021-01-26 03:07:21   \n",
       "\n",
       "           accept_time          pickup_time       delivered_time  rider_id  \\\n",
       "0  2021-01-26 02:22:08  2021-01-26 02:32:51  2021-01-26 02:49:47     11696   \n",
       "1  2021-01-26 02:34:45  2021-01-26 02:50:25  2021-01-26 03:11:15     18117   \n",
       "2  2021-01-26 02:40:13  2021-01-26 02:56:00  2021-01-26 03:12:46     18623   \n",
       "3  2021-01-26 02:49:06  2021-01-26 03:21:51  2021-01-26 03:41:05     15945   \n",
       "4  2021-01-26 03:07:57  2021-01-26 03:31:38  2021-01-26 04:00:15     17589   \n",
       "\n",
       "   first_mile_distance  last_mile_distance  alloted_orders  delivered_orders  \\\n",
       "0               1.5666                2.65            46.0              46.0   \n",
       "1               2.5207                2.76             8.0               8.0   \n",
       "2               2.2074                4.80             1.0               1.0   \n",
       "3               2.1894                6.38             1.0               1.0   \n",
       "4               2.7870                4.01            34.0              34.0   \n",
       "\n",
       "   cancelled  undelivered_orders  lifetime_order_count reassignment_method  \\\n",
       "0          0                 0.0                 621.0                 NaN   \n",
       "1          0                 0.0                 105.0                 NaN   \n",
       "2          0                 0.0                  66.0                 NaN   \n",
       "3          0                 0.0                 127.0                 NaN   \n",
       "4          0                 0.0                  84.0                 NaN   \n",
       "\n",
       "  reassignment_reason  reassigned_order  session_time cancelled_time  \n",
       "0                 NaN               NaN           NaN            NaN  \n",
       "1                 NaN               NaN      3.266667            NaN  \n",
       "2                 NaN               NaN      9.816667            NaN  \n",
       "3                 NaN               NaN     17.533333            NaN  \n",
       "4                 NaN               NaN      1.350000            NaN  "
      ]
     },
     "execution_count": 3,
     "metadata": {},
     "output_type": "execute_result"
    }
   ],
   "source": [
    "dataset.head()"
   ]
  },
  {
   "cell_type": "code",
   "execution_count": 4,
   "id": "73485fd1",
   "metadata": {
    "execution": {
     "iopub.execute_input": "2022-02-23T10:32:35.396041Z",
     "iopub.status.busy": "2022-02-23T10:32:35.394948Z",
     "iopub.status.idle": "2022-02-23T10:32:35.398783Z",
     "shell.execute_reply": "2022-02-23T10:32:35.399275Z",
     "shell.execute_reply.started": "2022-02-23T06:14:29.951212Z"
    },
    "papermill": {
     "duration": 0.077468,
     "end_time": "2022-02-23T10:32:35.399461",
     "exception": false,
     "start_time": "2022-02-23T10:32:35.321993",
     "status": "completed"
    },
    "tags": []
   },
   "outputs": [
    {
     "data": {
      "text/html": [
       "<div>\n",
       "<style scoped>\n",
       "    .dataframe tbody tr th:only-of-type {\n",
       "        vertical-align: middle;\n",
       "    }\n",
       "\n",
       "    .dataframe tbody tr th {\n",
       "        vertical-align: top;\n",
       "    }\n",
       "\n",
       "    .dataframe thead th {\n",
       "        text-align: right;\n",
       "    }\n",
       "</style>\n",
       "<table border=\"1\" class=\"dataframe\">\n",
       "  <thead>\n",
       "    <tr style=\"text-align: right;\">\n",
       "      <th></th>\n",
       "      <th>order_time</th>\n",
       "      <th>order_id</th>\n",
       "      <th>order_date</th>\n",
       "      <th>allot_time</th>\n",
       "      <th>accept_time</th>\n",
       "      <th>rider_id</th>\n",
       "      <th>first_mile_distance</th>\n",
       "      <th>last_mile_distance</th>\n",
       "      <th>alloted_orders</th>\n",
       "      <th>delivered_orders</th>\n",
       "      <th>undelivered_orders</th>\n",
       "      <th>lifetime_order_count</th>\n",
       "      <th>reassignment_method</th>\n",
       "      <th>reassignment_reason</th>\n",
       "      <th>reassigned_order</th>\n",
       "      <th>session_time</th>\n",
       "    </tr>\n",
       "  </thead>\n",
       "  <tbody>\n",
       "    <tr>\n",
       "      <th>0</th>\n",
       "      <td>2021-02-06 10:03:24</td>\n",
       "      <td>130231</td>\n",
       "      <td>2021-02-06 00:00:00</td>\n",
       "      <td>2021-02-06 10:03:49</td>\n",
       "      <td>2021-02-06 10:04:15</td>\n",
       "      <td>12884</td>\n",
       "      <td>1.6585</td>\n",
       "      <td>4.54</td>\n",
       "      <td>216.0</td>\n",
       "      <td>215.0</td>\n",
       "      <td>1.0</td>\n",
       "      <td>747.0</td>\n",
       "      <td>NaN</td>\n",
       "      <td>NaN</td>\n",
       "      <td>NaN</td>\n",
       "      <td>273.400000</td>\n",
       "    </tr>\n",
       "    <tr>\n",
       "      <th>1</th>\n",
       "      <td>2021-02-06 10:03:26</td>\n",
       "      <td>130232</td>\n",
       "      <td>2021-02-06 00:00:00</td>\n",
       "      <td>2021-02-06 10:03:27</td>\n",
       "      <td>2021-02-06 10:03:36</td>\n",
       "      <td>3541</td>\n",
       "      <td>2.0709</td>\n",
       "      <td>5.84</td>\n",
       "      <td>52.0</td>\n",
       "      <td>52.0</td>\n",
       "      <td>0.0</td>\n",
       "      <td>75.0</td>\n",
       "      <td>NaN</td>\n",
       "      <td>NaN</td>\n",
       "      <td>NaN</td>\n",
       "      <td>252.100000</td>\n",
       "    </tr>\n",
       "    <tr>\n",
       "      <th>2</th>\n",
       "      <td>2021-02-06 10:03:27</td>\n",
       "      <td>130233</td>\n",
       "      <td>2021-02-06 00:00:00</td>\n",
       "      <td>2021-02-06 10:04:14</td>\n",
       "      <td>2021-02-06 10:05:34</td>\n",
       "      <td>603</td>\n",
       "      <td>1.3884</td>\n",
       "      <td>0.99</td>\n",
       "      <td>289.0</td>\n",
       "      <td>289.0</td>\n",
       "      <td>0.0</td>\n",
       "      <td>2214.0</td>\n",
       "      <td>NaN</td>\n",
       "      <td>NaN</td>\n",
       "      <td>NaN</td>\n",
       "      <td>241.383333</td>\n",
       "    </tr>\n",
       "    <tr>\n",
       "      <th>3</th>\n",
       "      <td>2021-02-06 10:03:29</td>\n",
       "      <td>130234</td>\n",
       "      <td>2021-02-06 00:00:00</td>\n",
       "      <td>2021-02-06 10:03:30</td>\n",
       "      <td>2021-02-06 10:03:53</td>\n",
       "      <td>3414</td>\n",
       "      <td>1.9039</td>\n",
       "      <td>2.59</td>\n",
       "      <td>125.0</td>\n",
       "      <td>122.0</td>\n",
       "      <td>3.0</td>\n",
       "      <td>1020.0</td>\n",
       "      <td>NaN</td>\n",
       "      <td>NaN</td>\n",
       "      <td>NaN</td>\n",
       "      <td>291.933333</td>\n",
       "    </tr>\n",
       "    <tr>\n",
       "      <th>4</th>\n",
       "      <td>2021-02-06 10:03:35</td>\n",
       "      <td>130235</td>\n",
       "      <td>2021-02-06 00:00:00</td>\n",
       "      <td>2021-02-06 10:03:43</td>\n",
       "      <td>2021-02-06 10:04:43</td>\n",
       "      <td>1426</td>\n",
       "      <td>0.8275</td>\n",
       "      <td>0.94</td>\n",
       "      <td>352.0</td>\n",
       "      <td>350.0</td>\n",
       "      <td>2.0</td>\n",
       "      <td>7284.0</td>\n",
       "      <td>NaN</td>\n",
       "      <td>NaN</td>\n",
       "      <td>NaN</td>\n",
       "      <td>247.133333</td>\n",
       "    </tr>\n",
       "  </tbody>\n",
       "</table>\n",
       "</div>"
      ],
      "text/plain": [
       "            order_time  order_id           order_date           allot_time  \\\n",
       "0  2021-02-06 10:03:24    130231  2021-02-06 00:00:00  2021-02-06 10:03:49   \n",
       "1  2021-02-06 10:03:26    130232  2021-02-06 00:00:00  2021-02-06 10:03:27   \n",
       "2  2021-02-06 10:03:27    130233  2021-02-06 00:00:00  2021-02-06 10:04:14   \n",
       "3  2021-02-06 10:03:29    130234  2021-02-06 00:00:00  2021-02-06 10:03:30   \n",
       "4  2021-02-06 10:03:35    130235  2021-02-06 00:00:00  2021-02-06 10:03:43   \n",
       "\n",
       "           accept_time  rider_id  first_mile_distance  last_mile_distance  \\\n",
       "0  2021-02-06 10:04:15     12884               1.6585                4.54   \n",
       "1  2021-02-06 10:03:36      3541               2.0709                5.84   \n",
       "2  2021-02-06 10:05:34       603               1.3884                0.99   \n",
       "3  2021-02-06 10:03:53      3414               1.9039                2.59   \n",
       "4  2021-02-06 10:04:43      1426               0.8275                0.94   \n",
       "\n",
       "   alloted_orders  delivered_orders  undelivered_orders  lifetime_order_count  \\\n",
       "0           216.0             215.0                 1.0                 747.0   \n",
       "1            52.0              52.0                 0.0                  75.0   \n",
       "2           289.0             289.0                 0.0                2214.0   \n",
       "3           125.0             122.0                 3.0                1020.0   \n",
       "4           352.0             350.0                 2.0                7284.0   \n",
       "\n",
       "  reassignment_method reassignment_reason  reassigned_order  session_time  \n",
       "0                 NaN                 NaN               NaN    273.400000  \n",
       "1                 NaN                 NaN               NaN    252.100000  \n",
       "2                 NaN                 NaN               NaN    241.383333  \n",
       "3                 NaN                 NaN               NaN    291.933333  \n",
       "4                 NaN                 NaN               NaN    247.133333  "
      ]
     },
     "execution_count": 4,
     "metadata": {},
     "output_type": "execute_result"
    }
   ],
   "source": [
    "test_dataset.head()"
   ]
  },
  {
   "cell_type": "code",
   "execution_count": 5,
   "id": "b2e875e9",
   "metadata": {
    "execution": {
     "iopub.execute_input": "2022-02-23T10:32:35.502042Z",
     "iopub.status.busy": "2022-02-23T10:32:35.501123Z",
     "iopub.status.idle": "2022-02-23T10:32:35.890154Z",
     "shell.execute_reply": "2022-02-23T10:32:35.889430Z",
     "shell.execute_reply.started": "2022-02-23T06:14:29.987530Z"
    },
    "papermill": {
     "duration": 0.441524,
     "end_time": "2022-02-23T10:32:35.890301",
     "exception": false,
     "start_time": "2022-02-23T10:32:35.448777",
     "status": "completed"
    },
    "tags": []
   },
   "outputs": [
    {
     "name": "stdout",
     "output_type": "stream",
     "text": [
      "<class 'pandas.core.frame.DataFrame'>\n",
      "RangeIndex: 450000 entries, 0 to 449999\n",
      "Data columns (total 20 columns):\n",
      " #   Column                Non-Null Count   Dtype  \n",
      "---  ------                --------------   -----  \n",
      " 0   order_time            450000 non-null  object \n",
      " 1   order_id              450000 non-null  int64  \n",
      " 2   order_date            450000 non-null  object \n",
      " 3   allot_time            450000 non-null  object \n",
      " 4   accept_time           449843 non-null  object \n",
      " 5   pickup_time           447579 non-null  object \n",
      " 6   delivered_time        444782 non-null  object \n",
      " 7   rider_id              450000 non-null  int64  \n",
      " 8   first_mile_distance   450000 non-null  float64\n",
      " 9   last_mile_distance    450000 non-null  float64\n",
      " 10  alloted_orders        433052 non-null  float64\n",
      " 11  delivered_orders      432659 non-null  float64\n",
      " 12  cancelled             450000 non-null  int64  \n",
      " 13  undelivered_orders    432659 non-null  float64\n",
      " 14  lifetime_order_count  449947 non-null  float64\n",
      " 15  reassignment_method   13744 non-null   object \n",
      " 16  reassignment_reason   13753 non-null   object \n",
      " 17  reassigned_order      13753 non-null   float64\n",
      " 18  session_time          446325 non-null  float64\n",
      " 19  cancelled_time        5218 non-null    object \n",
      "dtypes: float64(8), int64(3), object(9)\n",
      "memory usage: 68.7+ MB\n"
     ]
    }
   ],
   "source": [
    "dataset.info()"
   ]
  },
  {
   "cell_type": "code",
   "execution_count": 6,
   "id": "a9e87585",
   "metadata": {
    "execution": {
     "iopub.execute_input": "2022-02-23T10:32:35.996951Z",
     "iopub.status.busy": "2022-02-23T10:32:35.994330Z",
     "iopub.status.idle": "2022-02-23T10:32:36.088240Z",
     "shell.execute_reply": "2022-02-23T10:32:36.089255Z",
     "shell.execute_reply.started": "2022-02-23T06:14:30.336721Z"
    },
    "papermill": {
     "duration": 0.148249,
     "end_time": "2022-02-23T10:32:36.089507",
     "exception": false,
     "start_time": "2022-02-23T10:32:35.941258",
     "status": "completed"
    },
    "tags": []
   },
   "outputs": [
    {
     "name": "stdout",
     "output_type": "stream",
     "text": [
      "<class 'pandas.core.frame.DataFrame'>\n",
      "RangeIndex: 144844 entries, 0 to 144843\n",
      "Data columns (total 16 columns):\n",
      " #   Column                Non-Null Count   Dtype  \n",
      "---  ------                --------------   -----  \n",
      " 0   order_time            144844 non-null  object \n",
      " 1   order_id              144844 non-null  int64  \n",
      " 2   order_date            144844 non-null  object \n",
      " 3   allot_time            144844 non-null  object \n",
      " 4   accept_time           144776 non-null  object \n",
      " 5   rider_id              144844 non-null  int64  \n",
      " 6   first_mile_distance   144844 non-null  float64\n",
      " 7   last_mile_distance    144844 non-null  float64\n",
      " 8   alloted_orders        140071 non-null  float64\n",
      " 9   delivered_orders      139960 non-null  float64\n",
      " 10  undelivered_orders    139960 non-null  float64\n",
      " 11  lifetime_order_count  144066 non-null  float64\n",
      " 12  reassignment_method   4632 non-null    object \n",
      " 13  reassignment_reason   4635 non-null    object \n",
      " 14  reassigned_order      4635 non-null    float64\n",
      " 15  session_time          139790 non-null  float64\n",
      "dtypes: float64(8), int64(2), object(6)\n",
      "memory usage: 17.7+ MB\n"
     ]
    }
   ],
   "source": [
    "test_dataset.info()"
   ]
  },
  {
   "cell_type": "code",
   "execution_count": 7,
   "id": "555251b5",
   "metadata": {
    "execution": {
     "iopub.execute_input": "2022-02-23T10:32:36.197155Z",
     "iopub.status.busy": "2022-02-23T10:32:36.196425Z",
     "iopub.status.idle": "2022-02-23T10:32:37.071795Z",
     "shell.execute_reply": "2022-02-23T10:32:37.071172Z",
     "shell.execute_reply.started": "2022-02-23T06:14:30.421416Z"
    },
    "papermill": {
     "duration": 0.930571,
     "end_time": "2022-02-23T10:32:37.071948",
     "exception": false,
     "start_time": "2022-02-23T10:32:36.141377",
     "status": "completed"
    },
    "tags": []
   },
   "outputs": [],
   "source": [
    "dataset.drop(['pickup_time', 'delivered_time','cancelled_time'],axis=1,inplace=True)\n",
    "dataset.drop_duplicates(inplace=True)"
   ]
  },
  {
   "cell_type": "code",
   "execution_count": 8,
   "id": "6539214a",
   "metadata": {
    "execution": {
     "iopub.execute_input": "2022-02-23T10:32:37.176187Z",
     "iopub.status.busy": "2022-02-23T10:32:37.175532Z",
     "iopub.status.idle": "2022-02-23T10:32:37.422351Z",
     "shell.execute_reply": "2022-02-23T10:32:37.422883Z",
     "shell.execute_reply.started": "2022-02-23T06:14:31.458540Z"
    },
    "papermill": {
     "duration": 0.300526,
     "end_time": "2022-02-23T10:32:37.423078",
     "exception": false,
     "start_time": "2022-02-23T10:32:37.122552",
     "status": "completed"
    },
    "tags": []
   },
   "outputs": [
    {
     "data": {
      "text/plain": [
       "order_time                   0\n",
       "order_id                     0\n",
       "order_date                   0\n",
       "allot_time                   0\n",
       "accept_time                157\n",
       "rider_id                     0\n",
       "first_mile_distance          0\n",
       "last_mile_distance           0\n",
       "alloted_orders           16948\n",
       "delivered_orders         17341\n",
       "cancelled                    0\n",
       "undelivered_orders       17341\n",
       "lifetime_order_count        53\n",
       "reassignment_method     436256\n",
       "reassignment_reason     436247\n",
       "reassigned_order        436247\n",
       "session_time              3675\n",
       "dtype: int64"
      ]
     },
     "execution_count": 8,
     "metadata": {},
     "output_type": "execute_result"
    }
   ],
   "source": [
    "dataset.isna().sum()"
   ]
  },
  {
   "cell_type": "code",
   "execution_count": 9,
   "id": "1d398970",
   "metadata": {
    "execution": {
     "iopub.execute_input": "2022-02-23T10:32:37.533836Z",
     "iopub.status.busy": "2022-02-23T10:32:37.533073Z",
     "iopub.status.idle": "2022-02-23T10:32:37.639466Z",
     "shell.execute_reply": "2022-02-23T10:32:37.639993Z",
     "shell.execute_reply.started": "2022-02-23T06:14:31.675061Z"
    },
    "papermill": {
     "duration": 0.16662,
     "end_time": "2022-02-23T10:32:37.640214",
     "exception": false,
     "start_time": "2022-02-23T10:32:37.473594",
     "status": "completed"
    },
    "tags": []
   },
   "outputs": [],
   "source": [
    "dataset['accept_time_NA'] = np.where(dataset['accept_time'].isnull(),1,0)\n",
    "dataset['alloted_orders_NA'] = np.where(dataset['alloted_orders'].isnull(),1,0)\n",
    "dataset['delivered_orders_NA'] = np.where(dataset['delivered_orders'].isnull(),1,0)\n",
    "dataset['undelivered_orders_NA'] = np.where(dataset['undelivered_orders'].isnull(),1,0)\n",
    "dataset['lifetime_order_count_NA'] = np.where(dataset['lifetime_order_count'].isnull(),1,0)\n",
    "dataset['reassigned_order'] = np.where(dataset['reassigned_order'].isnull(),0,1)\n",
    "dataset['session_time_NA'] = np.where(dataset['session_time'].isnull(),1,0)\n",
    "\n",
    "test_dataset['accept_time_NA'] = np.where(test_dataset['accept_time'].isnull(),1,0)\n",
    "test_dataset['alloted_orders_NA'] = np.where(test_dataset['alloted_orders'].isnull(),1,0)\n",
    "test_dataset['delivered_orders_NA'] = np.where(test_dataset['delivered_orders'].isnull(),1,0)\n",
    "test_dataset['undelivered_orders_NA'] = np.where(test_dataset['undelivered_orders'].isnull(),1,0)\n",
    "test_dataset['lifetime_order_count_NA'] = np.where(test_dataset['lifetime_order_count'].isnull(),1,0)\n",
    "test_dataset['reassigned_order'] = np.where(test_dataset['reassigned_order'].isnull(),0,1)\n",
    "test_dataset['session_time_NA'] = np.where(test_dataset['session_time'].isnull(),1,0)"
   ]
  },
  {
   "cell_type": "code",
   "execution_count": 10,
   "id": "e03c5102",
   "metadata": {
    "execution": {
     "iopub.execute_input": "2022-02-23T10:32:37.749702Z",
     "iopub.status.busy": "2022-02-23T10:32:37.746979Z",
     "iopub.status.idle": "2022-02-23T10:32:37.753033Z",
     "shell.execute_reply": "2022-02-23T10:32:37.753485Z",
     "shell.execute_reply.started": "2022-02-23T06:14:31.777684Z"
    },
    "papermill": {
     "duration": 0.061819,
     "end_time": "2022-02-23T10:32:37.753693",
     "exception": false,
     "start_time": "2022-02-23T10:32:37.691874",
     "status": "completed"
    },
    "tags": []
   },
   "outputs": [
    {
     "data": {
      "text/plain": [
       "\"dataset.loc[(dataset['lifetime_order_count'].isna() == True) & (dataset['alloted_orders'].isna() == True) & (dataset['delivered_orders'].isna() == True) & (dataset['session_time'].isna() == True),['lifetime_order_count','alloted_orders','delivered_orders','undelivered_orders']].fillna(value = -1000,inplace=True)\\ntest_dataset.loc[(test_dataset['lifetime_order_count'].isna() == True) & (test_dataset['alloted_orders'].isna() == True) & (test_dataset['delivered_orders'].isna() == True) & (test_dataset['session_time'].isna() == True),['lifetime_order_count','alloted_orders','delivered_orders','undelivered_orders']].fillna(value = -1000,inplace=True)\""
      ]
     },
     "execution_count": 10,
     "metadata": {},
     "output_type": "execute_result"
    }
   ],
   "source": [
    "# Since I planned to use tree based models and I noticed certain groups of features based on null values row wise, I marked them in this manner\n",
    "'''dataset.loc[(dataset['lifetime_order_count'].isna() == True) & (dataset['alloted_orders'].isna() == True) & (dataset['delivered_orders'].isna() == True) & (dataset['session_time'].isna() == True),['lifetime_order_count','alloted_orders','delivered_orders','undelivered_orders']].fillna(value = -1000,inplace=True)\n",
    "test_dataset.loc[(test_dataset['lifetime_order_count'].isna() == True) & (test_dataset['alloted_orders'].isna() == True) & (test_dataset['delivered_orders'].isna() == True) & (test_dataset['session_time'].isna() == True),['lifetime_order_count','alloted_orders','delivered_orders','undelivered_orders']].fillna(value = -1000,inplace=True)'''"
   ]
  },
  {
   "cell_type": "code",
   "execution_count": 11,
   "id": "ef7883cd",
   "metadata": {
    "execution": {
     "iopub.execute_input": "2022-02-23T10:32:37.859846Z",
     "iopub.status.busy": "2022-02-23T10:32:37.859096Z",
     "iopub.status.idle": "2022-02-23T10:32:37.862193Z",
     "shell.execute_reply": "2022-02-23T10:32:37.862674Z",
     "shell.execute_reply.started": "2022-02-23T06:14:31.789480Z"
    },
    "papermill": {
     "duration": 0.059001,
     "end_time": "2022-02-23T10:32:37.862835",
     "exception": false,
     "start_time": "2022-02-23T10:32:37.803834",
     "status": "completed"
    },
    "tags": []
   },
   "outputs": [
    {
     "data": {
      "text/plain": [
       "\"dataset.loc[(dataset['lifetime_order_count'].isna() == True) & (dataset['alloted_orders'].isna() == True) & (dataset['delivered_orders'].isna() == True),['lifetime_order_count','alloted_orders','delivered_orders','undelivered_orders']].fillna(value = -999,inplace=True)\\ntest_dataset.loc[(test_dataset['lifetime_order_count'].isna() == True) & (test_dataset['alloted_orders'].isna() == True) & (test_dataset['delivered_orders'].isna() == True),['lifetime_order_count','alloted_orders','delivered_orders','undelivered_orders']].fillna(value = -999,inplace=True)\""
      ]
     },
     "execution_count": 11,
     "metadata": {},
     "output_type": "execute_result"
    }
   ],
   "source": [
    "# Since I planned to use tree based models and I noticed certain groups of features based on null values row wise, I marked them in this manner\n",
    "'''dataset.loc[(dataset['lifetime_order_count'].isna() == True) & (dataset['alloted_orders'].isna() == True) & (dataset['delivered_orders'].isna() == True),['lifetime_order_count','alloted_orders','delivered_orders','undelivered_orders']].fillna(value = -999,inplace=True)\n",
    "test_dataset.loc[(test_dataset['lifetime_order_count'].isna() == True) & (test_dataset['alloted_orders'].isna() == True) & (test_dataset['delivered_orders'].isna() == True),['lifetime_order_count','alloted_orders','delivered_orders','undelivered_orders']].fillna(value = -999,inplace=True)'''"
   ]
  },
  {
   "cell_type": "code",
   "execution_count": 12,
   "id": "78674d9d",
   "metadata": {
    "execution": {
     "iopub.execute_input": "2022-02-23T10:32:37.968601Z",
     "iopub.status.busy": "2022-02-23T10:32:37.967578Z",
     "iopub.status.idle": "2022-02-23T10:32:37.973055Z",
     "shell.execute_reply": "2022-02-23T10:32:37.973496Z",
     "shell.execute_reply.started": "2022-02-23T06:14:31.798515Z"
    },
    "papermill": {
     "duration": 0.060591,
     "end_time": "2022-02-23T10:32:37.973676",
     "exception": false,
     "start_time": "2022-02-23T10:32:37.913085",
     "status": "completed"
    },
    "tags": []
   },
   "outputs": [
    {
     "data": {
      "text/plain": [
       "\"dataset.loc[dataset['lifetime_order_count'].isna() == True, 'delivered_orders'].fillna(value = 0,inplace=True)\\ndataset.loc[dataset['lifetime_order_count'].isna() == True, 'lifetime_order_count'].fillna(value = -998,inplace=True)\\ntest_dataset.loc[test_dataset['lifetime_order_count'].isna() == True, 'delivered_orders'].fillna(value = 0,inplace=True)\\ntest_dataset.loc[test_dataset['lifetime_order_count'].isna() == True, 'lifetime_order_count'].fillna(value = -998,inplace=True)\""
      ]
     },
     "execution_count": 12,
     "metadata": {},
     "output_type": "execute_result"
    }
   ],
   "source": [
    "# Since I planned to use tree based models and I noticed certain groups of features based on null values row wise, I marked them in this manner\n",
    "'''dataset.loc[dataset['lifetime_order_count'].isna() == True, 'delivered_orders'].fillna(value = 0,inplace=True)\n",
    "dataset.loc[dataset['lifetime_order_count'].isna() == True, 'lifetime_order_count'].fillna(value = -998,inplace=True)\n",
    "test_dataset.loc[test_dataset['lifetime_order_count'].isna() == True, 'delivered_orders'].fillna(value = 0,inplace=True)\n",
    "test_dataset.loc[test_dataset['lifetime_order_count'].isna() == True, 'lifetime_order_count'].fillna(value = -998,inplace=True)'''"
   ]
  },
  {
   "cell_type": "code",
   "execution_count": 13,
   "id": "89643dc3",
   "metadata": {
    "execution": {
     "iopub.execute_input": "2022-02-23T10:32:38.081507Z",
     "iopub.status.busy": "2022-02-23T10:32:38.080533Z",
     "iopub.status.idle": "2022-02-23T10:32:38.156153Z",
     "shell.execute_reply": "2022-02-23T10:32:38.156682Z",
     "shell.execute_reply.started": "2022-02-23T06:14:31.817160Z"
    },
    "papermill": {
     "duration": 0.131882,
     "end_time": "2022-02-23T10:32:38.156860",
     "exception": false,
     "start_time": "2022-02-23T10:32:38.024978",
     "status": "completed"
    },
    "tags": []
   },
   "outputs": [],
   "source": [
    "dataset['reassignment_method'].fillna('none',inplace=True)\n",
    "dataset['reassignment_reason'].fillna('none',inplace=True)\n",
    "\n",
    "test_dataset['reassignment_method'].fillna('none',inplace=True)\n",
    "test_dataset['reassignment_reason'].fillna('none',inplace=True)"
   ]
  },
  {
   "cell_type": "code",
   "execution_count": 14,
   "id": "c83c4ec7",
   "metadata": {
    "execution": {
     "iopub.execute_input": "2022-02-23T10:32:38.420377Z",
     "iopub.status.busy": "2022-02-23T10:32:38.419676Z",
     "iopub.status.idle": "2022-02-23T10:32:39.856193Z",
     "shell.execute_reply": "2022-02-23T10:32:39.855587Z",
     "shell.execute_reply.started": "2022-02-23T06:14:31.896252Z"
    },
    "papermill": {
     "duration": 1.647299,
     "end_time": "2022-02-23T10:32:39.856377",
     "exception": false,
     "start_time": "2022-02-23T10:32:38.209078",
     "status": "completed"
    },
    "tags": []
   },
   "outputs": [],
   "source": [
    "date_col = ['order_time','order_date','allot_time','accept_time']\n",
    "for col in date_col:\n",
    "    dataset[col] = pd.to_datetime(dataset[col])\n",
    "    test_dataset[col] = pd.to_datetime(test_dataset[col])\n",
    "\n",
    "dataset['accept_delay'] = ((dataset['accept_time'] - dataset['allot_time']).dt.total_seconds().fillna(-30000)).astype(int)\n",
    "dataset['allot_delay'] = ((dataset['allot_time'] - dataset['order_time']).dt.total_seconds()).astype(int)\n",
    "\n",
    "test_dataset['accept_delay'] = ((test_dataset['accept_time'] - test_dataset['allot_time']).dt.total_seconds().fillna(-30000)).astype(int)\n",
    "test_dataset['allot_delay'] = ((test_dataset['allot_time'] - test_dataset['order_time']).dt.total_seconds()).astype(int)\n",
    "\n",
    "'''dataset['lifetime_order_count'] = dataset['lifetime_order_count'].fillna(-20).astype(int)\n",
    "test_dataset['lifetime_order_count'] = test_dataset['lifetime_order_count'].fillna(-20).astype(int)'''\n",
    "\n",
    "dataset['minutes'] = 60 * dataset['order_time'].dt.hour + dataset['order_time'].dt.minute\n",
    "test_dataset['minutes'] = 60 * test_dataset['order_time'].dt.hour + test_dataset['order_time'].dt.minute\n",
    "\n",
    "dataset['day'] = dataset['order_time'].dt.weekday\n",
    "test_dataset['day'] = test_dataset['order_time'].dt.weekday\n",
    "\n",
    "week = dataset['order_time'].dt.day_name()\n",
    "dataset['is_weekend'] = week.apply(lambda x: 1 if (x == 'Saturday' or x=='Sunday' or x=='Monday') else 0)\n",
    "week = test_dataset['order_time'].dt.day_name()\n",
    "test_dataset['is_weekend'] = week.apply(lambda x: 1 if (x == 'Saturday' or x=='Sunday' or x=='Monday') else 0)"
   ]
  },
  {
   "cell_type": "code",
   "execution_count": 15,
   "id": "ad53c033",
   "metadata": {
    "execution": {
     "iopub.execute_input": "2022-02-23T10:32:39.969069Z",
     "iopub.status.busy": "2022-02-23T10:32:39.968082Z",
     "iopub.status.idle": "2022-02-23T10:34:29.434448Z",
     "shell.execute_reply": "2022-02-23T10:34:29.433797Z",
     "shell.execute_reply.started": "2022-02-23T06:14:33.459723Z"
    },
    "papermill": {
     "duration": 109.52743,
     "end_time": "2022-02-23T10:34:29.434652",
     "exception": false,
     "start_time": "2022-02-23T10:32:39.907222",
     "status": "completed"
    },
    "tags": []
   },
   "outputs": [],
   "source": [
    "dataset['morning'] = dataset.apply(lambda x: 1 if (x['minutes']> 360 & x['minutes']<= 720) else 0, axis = 1)\n",
    "dataset['noon'] = dataset.apply(lambda x: 1 if (x['minutes']>720 & x['minutes']<= 960) else 0, axis = 1)\n",
    "dataset['evening'] = dataset.apply(lambda x: 1 if (x['minutes']> 960 & x['minutes']<= 1260) else 0, axis = 1)\n",
    "dataset['aftermidnight'] = dataset.apply(lambda x: 1 if (x['minutes']>1260 | (x['minutes']>=0 & x['minutes']<=360)) else 0, axis = 1)\n",
    "\n",
    "test_dataset['morning'] = test_dataset.apply(lambda x: 1 if (x['minutes']> 360 & x['minutes']<= 720) else 0, axis = 1)\n",
    "test_dataset['noon'] = test_dataset.apply(lambda x: 1 if (x['minutes']>720 & x['minutes'] <=960) else 0, axis = 1)\n",
    "test_dataset['evening'] = test_dataset.apply(lambda x: 1 if (x['minutes']> 960 & x['minutes']<= 1260) else 0, axis = 1)\n",
    "test_dataset['aftermidnight'] = test_dataset.apply(lambda x: 1 if (x['minutes']>1260 | (x['minutes']>=0 & x['minutes']<=360)) else 0, axis = 1)"
   ]
  },
  {
   "cell_type": "code",
   "execution_count": 16,
   "id": "61aa85e9",
   "metadata": {
    "execution": {
     "iopub.execute_input": "2022-02-23T10:34:29.544442Z",
     "iopub.status.busy": "2022-02-23T10:34:29.543765Z",
     "iopub.status.idle": "2022-02-23T10:34:58.478993Z",
     "shell.execute_reply": "2022-02-23T10:34:58.478361Z",
     "shell.execute_reply.started": "2022-02-23T06:16:25.325080Z"
    },
    "papermill": {
     "duration": 28.99018,
     "end_time": "2022-02-23T10:34:58.479162",
     "exception": false,
     "start_time": "2022-02-23T10:34:29.488982",
     "status": "completed"
    },
    "tags": []
   },
   "outputs": [],
   "source": [
    "dataset['delivered_orders'] = dataset['delivered_orders'].replace(np.nan,0).astype(int)\n",
    "dataset['undelivered_orders'] = dataset['undelivered_orders'].replace(np.nan,0).astype(int)\n",
    "dataset['alloted_orders'] = dataset['alloted_orders'].replace(np.nan,0).astype(int)\n",
    "\n",
    "test_dataset['delivered_orders'] = test_dataset['delivered_orders'].replace(np.nan,0).astype(int)\n",
    "test_dataset['undelivered_orders'] = test_dataset['undelivered_orders'].replace(np.nan,0).astype(int)\n",
    "test_dataset['alloted_orders'] = test_dataset['alloted_orders'].replace(np.nan,0).astype(int)\n",
    "\n",
    "dataset['order_ratio'] = dataset.apply(lambda x:( x['delivered_orders'] / x['alloted_orders'] )if (x['alloted_orders'] != 0) else 2,axis=1)\n",
    "test_dataset['order_ratio'] = test_dataset.apply(lambda x:( x['delivered_orders'] / x['alloted_orders'] )if (x['alloted_orders'] != 0) else 2,axis=1)"
   ]
  },
  {
   "cell_type": "code",
   "execution_count": 17,
   "id": "bef263a9",
   "metadata": {
    "execution": {
     "iopub.execute_input": "2022-02-23T10:34:58.586459Z",
     "iopub.status.busy": "2022-02-23T10:34:58.585845Z",
     "iopub.status.idle": "2022-02-23T10:34:59.038116Z",
     "shell.execute_reply": "2022-02-23T10:34:59.038667Z",
     "shell.execute_reply.started": "2022-02-23T06:16:54.670473Z"
    },
    "papermill": {
     "duration": 0.508591,
     "end_time": "2022-02-23T10:34:59.038841",
     "exception": false,
     "start_time": "2022-02-23T10:34:58.530250",
     "status": "completed"
    },
    "tags": []
   },
   "outputs": [
    {
     "data": {
      "text/html": [
       "<div>\n",
       "<style scoped>\n",
       "    .dataframe tbody tr th:only-of-type {\n",
       "        vertical-align: middle;\n",
       "    }\n",
       "\n",
       "    .dataframe tbody tr th {\n",
       "        vertical-align: top;\n",
       "    }\n",
       "\n",
       "    .dataframe thead th {\n",
       "        text-align: right;\n",
       "    }\n",
       "</style>\n",
       "<table border=\"1\" class=\"dataframe\">\n",
       "  <thead>\n",
       "    <tr style=\"text-align: right;\">\n",
       "      <th></th>\n",
       "      <th>order_id</th>\n",
       "      <th>rider_id</th>\n",
       "      <th>first_mile_distance</th>\n",
       "      <th>last_mile_distance</th>\n",
       "      <th>alloted_orders</th>\n",
       "      <th>delivered_orders</th>\n",
       "      <th>cancelled</th>\n",
       "      <th>undelivered_orders</th>\n",
       "      <th>lifetime_order_count</th>\n",
       "      <th>reassigned_order</th>\n",
       "      <th>...</th>\n",
       "      <th>accept_delay</th>\n",
       "      <th>allot_delay</th>\n",
       "      <th>minutes</th>\n",
       "      <th>day</th>\n",
       "      <th>is_weekend</th>\n",
       "      <th>morning</th>\n",
       "      <th>noon</th>\n",
       "      <th>evening</th>\n",
       "      <th>aftermidnight</th>\n",
       "      <th>order_ratio</th>\n",
       "    </tr>\n",
       "  </thead>\n",
       "  <tbody>\n",
       "    <tr>\n",
       "      <th>count</th>\n",
       "      <td>449999.000000</td>\n",
       "      <td>449999.000000</td>\n",
       "      <td>449999.000000</td>\n",
       "      <td>449999.000000</td>\n",
       "      <td>449999.000000</td>\n",
       "      <td>449999.000000</td>\n",
       "      <td>449999.000000</td>\n",
       "      <td>449999.000000</td>\n",
       "      <td>449946.000000</td>\n",
       "      <td>449999.000000</td>\n",
       "      <td>...</td>\n",
       "      <td>449999.000000</td>\n",
       "      <td>449999.000000</td>\n",
       "      <td>449999.000000</td>\n",
       "      <td>449999.000000</td>\n",
       "      <td>449999.000000</td>\n",
       "      <td>449999.000000</td>\n",
       "      <td>449999.000000</td>\n",
       "      <td>449999.000000</td>\n",
       "      <td>449999.000000</td>\n",
       "      <td>449999.000000</td>\n",
       "    </tr>\n",
       "    <tr>\n",
       "      <th>mean</th>\n",
       "      <td>369143.497970</td>\n",
       "      <td>7763.228961</td>\n",
       "      <td>1.229886</td>\n",
       "      <td>2.968877</td>\n",
       "      <td>100.680717</td>\n",
       "      <td>99.944722</td>\n",
       "      <td>0.011593</td>\n",
       "      <td>0.734719</td>\n",
       "      <td>853.642019</td>\n",
       "      <td>0.030560</td>\n",
       "      <td>...</td>\n",
       "      <td>50.517779</td>\n",
       "      <td>73.188607</td>\n",
       "      <td>794.023302</td>\n",
       "      <td>2.885240</td>\n",
       "      <td>0.281238</td>\n",
       "      <td>0.999624</td>\n",
       "      <td>0.994524</td>\n",
       "      <td>0.988051</td>\n",
       "      <td>0.000004</td>\n",
       "      <td>1.028191</td>\n",
       "    </tr>\n",
       "    <tr>\n",
       "      <th>std</th>\n",
       "      <td>131146.753506</td>\n",
       "      <td>5592.877231</td>\n",
       "      <td>0.846181</td>\n",
       "      <td>1.884124</td>\n",
       "      <td>90.637453</td>\n",
       "      <td>90.144309</td>\n",
       "      <td>0.107047</td>\n",
       "      <td>1.056018</td>\n",
       "      <td>1502.977557</td>\n",
       "      <td>0.172123</td>\n",
       "      <td>...</td>\n",
       "      <td>571.587485</td>\n",
       "      <td>274.943375</td>\n",
       "      <td>216.618307</td>\n",
       "      <td>1.742037</td>\n",
       "      <td>0.449604</td>\n",
       "      <td>0.019376</td>\n",
       "      <td>0.073794</td>\n",
       "      <td>0.108656</td>\n",
       "      <td>0.002108</td>\n",
       "      <td>0.195824</td>\n",
       "    </tr>\n",
       "    <tr>\n",
       "      <th>min</th>\n",
       "      <td>118350.000000</td>\n",
       "      <td>0.000000</td>\n",
       "      <td>0.000134</td>\n",
       "      <td>0.000000</td>\n",
       "      <td>0.000000</td>\n",
       "      <td>0.000000</td>\n",
       "      <td>0.000000</td>\n",
       "      <td>0.000000</td>\n",
       "      <td>0.000000</td>\n",
       "      <td>0.000000</td>\n",
       "      <td>...</td>\n",
       "      <td>-30000.000000</td>\n",
       "      <td>0.000000</td>\n",
       "      <td>44.000000</td>\n",
       "      <td>0.000000</td>\n",
       "      <td>0.000000</td>\n",
       "      <td>0.000000</td>\n",
       "      <td>0.000000</td>\n",
       "      <td>0.000000</td>\n",
       "      <td>0.000000</td>\n",
       "      <td>0.000000</td>\n",
       "    </tr>\n",
       "    <tr>\n",
       "      <th>25%</th>\n",
       "      <td>257343.500000</td>\n",
       "      <td>2805.000000</td>\n",
       "      <td>0.539550</td>\n",
       "      <td>1.470000</td>\n",
       "      <td>31.000000</td>\n",
       "      <td>31.000000</td>\n",
       "      <td>0.000000</td>\n",
       "      <td>0.000000</td>\n",
       "      <td>165.000000</td>\n",
       "      <td>0.000000</td>\n",
       "      <td>...</td>\n",
       "      <td>14.000000</td>\n",
       "      <td>1.000000</td>\n",
       "      <td>558.000000</td>\n",
       "      <td>1.000000</td>\n",
       "      <td>0.000000</td>\n",
       "      <td>1.000000</td>\n",
       "      <td>1.000000</td>\n",
       "      <td>1.000000</td>\n",
       "      <td>0.000000</td>\n",
       "      <td>0.989247</td>\n",
       "    </tr>\n",
       "    <tr>\n",
       "      <th>50%</th>\n",
       "      <td>369843.000000</td>\n",
       "      <td>6754.000000</td>\n",
       "      <td>1.138700</td>\n",
       "      <td>2.670000</td>\n",
       "      <td>77.000000</td>\n",
       "      <td>77.000000</td>\n",
       "      <td>0.000000</td>\n",
       "      <td>0.000000</td>\n",
       "      <td>396.000000</td>\n",
       "      <td>0.000000</td>\n",
       "      <td>...</td>\n",
       "      <td>37.000000</td>\n",
       "      <td>15.000000</td>\n",
       "      <td>866.000000</td>\n",
       "      <td>3.000000</td>\n",
       "      <td>0.000000</td>\n",
       "      <td>1.000000</td>\n",
       "      <td>1.000000</td>\n",
       "      <td>1.000000</td>\n",
       "      <td>0.000000</td>\n",
       "      <td>1.000000</td>\n",
       "    </tr>\n",
       "    <tr>\n",
       "      <th>75%</th>\n",
       "      <td>482342.500000</td>\n",
       "      <td>11965.000000</td>\n",
       "      <td>1.853000</td>\n",
       "      <td>4.220000</td>\n",
       "      <td>144.000000</td>\n",
       "      <td>143.000000</td>\n",
       "      <td>0.000000</td>\n",
       "      <td>1.000000</td>\n",
       "      <td>948.000000</td>\n",
       "      <td>0.000000</td>\n",
       "      <td>...</td>\n",
       "      <td>63.000000</td>\n",
       "      <td>48.000000</td>\n",
       "      <td>966.000000</td>\n",
       "      <td>4.000000</td>\n",
       "      <td>1.000000</td>\n",
       "      <td>1.000000</td>\n",
       "      <td>1.000000</td>\n",
       "      <td>1.000000</td>\n",
       "      <td>0.000000</td>\n",
       "      <td>1.000000</td>\n",
       "    </tr>\n",
       "    <tr>\n",
       "      <th>max</th>\n",
       "      <td>594842.000000</td>\n",
       "      <td>21566.000000</td>\n",
       "      <td>42.038100</td>\n",
       "      <td>22.410000</td>\n",
       "      <td>567.000000</td>\n",
       "      <td>562.000000</td>\n",
       "      <td>1.000000</td>\n",
       "      <td>9.000000</td>\n",
       "      <td>30469.000000</td>\n",
       "      <td>1.000000</td>\n",
       "      <td>...</td>\n",
       "      <td>930.000000</td>\n",
       "      <td>32334.000000</td>\n",
       "      <td>1301.000000</td>\n",
       "      <td>6.000000</td>\n",
       "      <td>1.000000</td>\n",
       "      <td>1.000000</td>\n",
       "      <td>1.000000</td>\n",
       "      <td>1.000000</td>\n",
       "      <td>1.000000</td>\n",
       "      <td>2.000000</td>\n",
       "    </tr>\n",
       "  </tbody>\n",
       "</table>\n",
       "<p>8 rows × 27 columns</p>\n",
       "</div>"
      ],
      "text/plain": [
       "            order_id       rider_id  first_mile_distance  last_mile_distance  \\\n",
       "count  449999.000000  449999.000000        449999.000000       449999.000000   \n",
       "mean   369143.497970    7763.228961             1.229886            2.968877   \n",
       "std    131146.753506    5592.877231             0.846181            1.884124   \n",
       "min    118350.000000       0.000000             0.000134            0.000000   \n",
       "25%    257343.500000    2805.000000             0.539550            1.470000   \n",
       "50%    369843.000000    6754.000000             1.138700            2.670000   \n",
       "75%    482342.500000   11965.000000             1.853000            4.220000   \n",
       "max    594842.000000   21566.000000            42.038100           22.410000   \n",
       "\n",
       "       alloted_orders  delivered_orders      cancelled  undelivered_orders  \\\n",
       "count   449999.000000     449999.000000  449999.000000       449999.000000   \n",
       "mean       100.680717         99.944722       0.011593            0.734719   \n",
       "std         90.637453         90.144309       0.107047            1.056018   \n",
       "min          0.000000          0.000000       0.000000            0.000000   \n",
       "25%         31.000000         31.000000       0.000000            0.000000   \n",
       "50%         77.000000         77.000000       0.000000            0.000000   \n",
       "75%        144.000000        143.000000       0.000000            1.000000   \n",
       "max        567.000000        562.000000       1.000000            9.000000   \n",
       "\n",
       "       lifetime_order_count  reassigned_order  ...   accept_delay  \\\n",
       "count         449946.000000     449999.000000  ...  449999.000000   \n",
       "mean             853.642019          0.030560  ...      50.517779   \n",
       "std             1502.977557          0.172123  ...     571.587485   \n",
       "min                0.000000          0.000000  ...  -30000.000000   \n",
       "25%              165.000000          0.000000  ...      14.000000   \n",
       "50%              396.000000          0.000000  ...      37.000000   \n",
       "75%              948.000000          0.000000  ...      63.000000   \n",
       "max            30469.000000          1.000000  ...     930.000000   \n",
       "\n",
       "         allot_delay        minutes            day     is_weekend  \\\n",
       "count  449999.000000  449999.000000  449999.000000  449999.000000   \n",
       "mean       73.188607     794.023302       2.885240       0.281238   \n",
       "std       274.943375     216.618307       1.742037       0.449604   \n",
       "min         0.000000      44.000000       0.000000       0.000000   \n",
       "25%         1.000000     558.000000       1.000000       0.000000   \n",
       "50%        15.000000     866.000000       3.000000       0.000000   \n",
       "75%        48.000000     966.000000       4.000000       1.000000   \n",
       "max     32334.000000    1301.000000       6.000000       1.000000   \n",
       "\n",
       "             morning           noon        evening  aftermidnight  \\\n",
       "count  449999.000000  449999.000000  449999.000000  449999.000000   \n",
       "mean        0.999624       0.994524       0.988051       0.000004   \n",
       "std         0.019376       0.073794       0.108656       0.002108   \n",
       "min         0.000000       0.000000       0.000000       0.000000   \n",
       "25%         1.000000       1.000000       1.000000       0.000000   \n",
       "50%         1.000000       1.000000       1.000000       0.000000   \n",
       "75%         1.000000       1.000000       1.000000       0.000000   \n",
       "max         1.000000       1.000000       1.000000       1.000000   \n",
       "\n",
       "         order_ratio  \n",
       "count  449999.000000  \n",
       "mean        1.028191  \n",
       "std         0.195824  \n",
       "min         0.000000  \n",
       "25%         0.989247  \n",
       "50%         1.000000  \n",
       "75%         1.000000  \n",
       "max         2.000000  \n",
       "\n",
       "[8 rows x 27 columns]"
      ]
     },
     "execution_count": 17,
     "metadata": {},
     "output_type": "execute_result"
    }
   ],
   "source": [
    "dataset.describe()"
   ]
  },
  {
   "cell_type": "code",
   "execution_count": 18,
   "id": "700b8296",
   "metadata": {
    "execution": {
     "iopub.execute_input": "2022-02-23T10:34:59.149466Z",
     "iopub.status.busy": "2022-02-23T10:34:59.147111Z",
     "iopub.status.idle": "2022-02-23T10:34:59.278024Z",
     "shell.execute_reply": "2022-02-23T10:34:59.277392Z",
     "shell.execute_reply.started": "2022-02-23T06:16:55.040679Z"
    },
    "papermill": {
     "duration": 0.186144,
     "end_time": "2022-02-23T10:34:59.278171",
     "exception": false,
     "start_time": "2022-02-23T10:34:59.092027",
     "status": "completed"
    },
    "tags": []
   },
   "outputs": [
    {
     "data": {
      "text/plain": [
       "order_time                    0\n",
       "order_id                      0\n",
       "order_date                    0\n",
       "allot_time                    0\n",
       "accept_time                 157\n",
       "rider_id                      0\n",
       "first_mile_distance           0\n",
       "last_mile_distance            0\n",
       "alloted_orders                0\n",
       "delivered_orders              0\n",
       "cancelled                     0\n",
       "undelivered_orders            0\n",
       "lifetime_order_count         53\n",
       "reassignment_method           0\n",
       "reassignment_reason           0\n",
       "reassigned_order              0\n",
       "session_time               3675\n",
       "accept_time_NA                0\n",
       "alloted_orders_NA             0\n",
       "delivered_orders_NA           0\n",
       "undelivered_orders_NA         0\n",
       "lifetime_order_count_NA       0\n",
       "session_time_NA               0\n",
       "accept_delay                  0\n",
       "allot_delay                   0\n",
       "minutes                       0\n",
       "day                           0\n",
       "is_weekend                    0\n",
       "morning                       0\n",
       "noon                          0\n",
       "evening                       0\n",
       "aftermidnight                 0\n",
       "order_ratio                   0\n",
       "dtype: int64"
      ]
     },
     "execution_count": 18,
     "metadata": {},
     "output_type": "execute_result"
    }
   ],
   "source": [
    "dataset.isna().sum()"
   ]
  },
  {
   "cell_type": "code",
   "execution_count": 19,
   "id": "eb0e7cdc",
   "metadata": {
    "execution": {
     "iopub.execute_input": "2022-02-23T10:34:59.431489Z",
     "iopub.status.busy": "2022-02-23T10:34:59.421148Z",
     "iopub.status.idle": "2022-02-23T10:34:59.685475Z",
     "shell.execute_reply": "2022-02-23T10:34:59.684916Z",
     "shell.execute_reply.started": "2022-02-23T06:16:55.151512Z"
    },
    "papermill": {
     "duration": 0.355172,
     "end_time": "2022-02-23T10:34:59.685645",
     "exception": false,
     "start_time": "2022-02-23T10:34:59.330473",
     "status": "completed"
    },
    "tags": []
   },
   "outputs": [],
   "source": [
    "from sklearn.preprocessing import LabelEncoder\n",
    "le1 = LabelEncoder()\n",
    "le2 = LabelEncoder()\n",
    "\n",
    "dataset['reassignment_method'] = le1.fit_transform(dataset['reassignment_method'])\n",
    "test_dataset['reassignment_method'] = le1.transform(test_dataset['reassignment_method'])\n",
    "\n",
    "dataset['reassignment_reason'] = le2.fit_transform(dataset['reassignment_reason'])\n",
    "test_dataset['reassignment_reason'] = le2.transform(test_dataset['reassignment_reason'])"
   ]
  },
  {
   "cell_type": "code",
   "execution_count": 20,
   "id": "599f1f2f",
   "metadata": {
    "execution": {
     "iopub.execute_input": "2022-02-23T10:34:59.798636Z",
     "iopub.status.busy": "2022-02-23T10:34:59.797983Z",
     "iopub.status.idle": "2022-02-23T10:34:59.820779Z",
     "shell.execute_reply": "2022-02-23T10:34:59.821219Z",
     "shell.execute_reply.started": "2022-02-23T06:16:55.437073Z"
    },
    "papermill": {
     "duration": 0.082801,
     "end_time": "2022-02-23T10:34:59.821389",
     "exception": false,
     "start_time": "2022-02-23T10:34:59.738588",
     "status": "completed"
    },
    "tags": []
   },
   "outputs": [
    {
     "data": {
      "text/plain": [
       "\"for df in [dataset,test_dataset]:\\n    df['undelivered_orders'].fillna(df['alloted_orders']- df['delivered_orders'],inplace=True)\\n    df['order_ratio'] = df.apply(lambda x:( x['delivered_orders'] / x['alloted_orders'] )if (x['alloted_orders'] != 0) else -1,axis=1)\""
      ]
     },
     "execution_count": 20,
     "metadata": {},
     "output_type": "execute_result"
    }
   ],
   "source": [
    "median1 = dataset.session_time.median()\n",
    "# median2 = dataset.accept_delay.median()\n",
    "median3 = dataset.lifetime_order_count.median()\n",
    "# median4 = dataset.delivered_orders.median()\n",
    "for df in [dataset,test_dataset]:\n",
    "    df['session_time'].fillna(-20, inplace=True)\n",
    "    # df['accept_delay'].fillna(median2, inplace=True)\n",
    "    df['lifetime_order_count'].fillna(-20, inplace=True)\n",
    "    # df['delivered_orders'].fillna(median4, inplace=True)\n",
    "\n",
    "'''for df in [dataset,test_dataset]:\n",
    "    df['undelivered_orders'].fillna(df['alloted_orders']- df['delivered_orders'],inplace=True)\n",
    "    df['order_ratio'] = df.apply(lambda x:( x['delivered_orders'] / x['alloted_orders'] )if (x['alloted_orders'] != 0) else -1,axis=1)'''"
   ]
  },
  {
   "cell_type": "code",
   "execution_count": 21,
   "id": "f24a2b50",
   "metadata": {
    "execution": {
     "iopub.execute_input": "2022-02-23T10:34:59.938826Z",
     "iopub.status.busy": "2022-02-23T10:34:59.938149Z",
     "iopub.status.idle": "2022-02-23T10:35:00.125786Z",
     "shell.execute_reply": "2022-02-23T10:35:00.126249Z",
     "shell.execute_reply.started": "2022-02-23T06:16:55.461982Z"
    },
    "papermill": {
     "duration": 0.250993,
     "end_time": "2022-02-23T10:35:00.126424",
     "exception": false,
     "start_time": "2022-02-23T10:34:59.875431",
     "status": "completed"
    },
    "tags": []
   },
   "outputs": [],
   "source": [
    "numeric_cols = [   \n",
    "'rider_id',                       \n",
    "'first_mile_distance','last_mile_distance','lifetime_order_count',           \n",
    "'alloted_orders','delivered_orders', 'minutes',  'undelivered_orders',             \n",
    "'session_time','accept_delay','allot_delay','order_ratio'\n",
    "]\n",
    "\n",
    "categorical_cols = [\n",
    "'rider_id',                                            \n",
    "'reassignment_method','reassignment_reason','day', 'accept_time_NA',\n",
    "'alloted_orders_NA', 'delivered_orders_NA', 'undelivered_orders_NA',\n",
    "'lifetime_order_count_NA', 'session_time_NA','morning', 'noon', 'evening','aftermidnight','is_weekend'\n",
    "]\n",
    "\n",
    "numeric_dataset = dataset[numeric_cols]\n",
    "categorical = dataset[categorical_cols]\n",
    "numeric_test_dataset = test_dataset[numeric_cols]\n",
    "categorical_test = test_dataset[categorical_cols]"
   ]
  },
  {
   "cell_type": "code",
   "execution_count": 22,
   "id": "e165c582",
   "metadata": {
    "execution": {
     "iopub.execute_input": "2022-02-23T10:35:00.265121Z",
     "iopub.status.busy": "2022-02-23T10:35:00.264407Z",
     "iopub.status.idle": "2022-02-23T10:35:02.850928Z",
     "shell.execute_reply": "2022-02-23T10:35:02.850254Z",
     "shell.execute_reply.started": "2022-02-23T06:16:55.568287Z"
    },
    "papermill": {
     "duration": 2.671345,
     "end_time": "2022-02-23T10:35:02.851080",
     "exception": false,
     "start_time": "2022-02-23T10:35:00.179735",
     "status": "completed"
    },
    "tags": []
   },
   "outputs": [],
   "source": [
    "agg = numeric_dataset.groupby('rider_id').agg(['count', 'mean', 'max', 'min', 'sum']).reset_index()\n",
    "agg.columns = ['rider_id',\n",
    "            'first_mile_distance_count','first_mile_distance_mean','first_mile_distance_max','first_mile_distance_min','first_mile_distance_sum',\n",
    "            'last_mile_distance_count','last_mile_distance_mean','last_mile_distance_max','last_mile_distance_min','last_mile_distance_sum',\n",
    "            'lifetime_order_count_count','lifetime_order_count_mean','lifetime_order_count_max','lifetime_order_count_min','lifetime_order_count_sum',\n",
    "            'alloted_orders_count','alloted_orders_mean','alloted_orders_max','alloted_orders_min','alloted_orders_sum',\n",
    "            'delivered_orders_count','delivered_orders_mean','delivered_orders_max','delivered_orders_min','delivered_orders_sum',\n",
    "            'minutes_count','minutes_mean','minutes_max','minutes_min','minutes_sum',\n",
    "            'undelivered_orders_count','undelivered_orders_mean','undelivered_orders_max','undelivered_orders_min','undelivered_orders_sum',\n",
    "            'session_time_count','session_time_mean','session_time_max','session_time_min','session_time_sum',\n",
    "            'accept_delay_count','accept_delay_mean','accept_delay_max','accept_delay_min','accept_delay_sum',\n",
    "            'allot_delay_count','allot_delay_mean','allot_delay_max','allot_delay_min','allot_delay_sum',\n",
    "            'order_ratio_count','order_ratio_mean','order_ratio_max','order_ratio_min','order_ratio_sum' ]\n",
    "dataset = dataset.merge(agg,how = 'left', on = 'rider_id')\n",
    "\n",
    "\n",
    "agg = numeric_test_dataset.groupby('rider_id').agg(['count', 'mean', 'max', 'min', 'sum']).reset_index()\n",
    "agg.columns = ['rider_id',\n",
    "            'first_mile_distance_count','first_mile_distance_mean','first_mile_distance_max','first_mile_distance_min','first_mile_distance_sum',\n",
    "            'last_mile_distance_count','last_mile_distance_mean','last_mile_distance_max','last_mile_distance_min','last_mile_distance_sum',\n",
    "            'lifetime_order_count_count','lifetime_order_count_mean','lifetime_order_count_max','lifetime_order_count_min','lifetime_order_count_sum',\n",
    "            'alloted_orders_count','alloted_orders_mean','alloted_orders_max','alloted_orders_min','alloted_orders_sum',\n",
    "            'delivered_orders_count','delivered_orders_mean','delivered_orders_max','delivered_orders_min','delivered_orders_sum',\n",
    "            'minutes_count','minutes_mean','minutes_max','minutes_min','minutes_sum',\n",
    "            'undelivered_orders_count','undelivered_orders_mean','undelivered_orders_max','undelivered_orders_min','undelivered_orders_sum',\n",
    "            'session_time_count','session_time_mean','session_time_max','session_time_min','session_time_sum',\n",
    "            'accept_delay_count','accept_delay_mean','accept_delay_max','accept_delay_min','accept_delay_sum',\n",
    "            'allot_delay_count','allot_delay_mean','allot_delay_max','allot_delay_min','allot_delay_sum',\n",
    "            'order_ratio_count','order_ratio_mean','order_ratio_max','order_ratio_min','order_ratio_sum' ]\n",
    "test_dataset = test_dataset.merge(agg,how = 'left', on = 'rider_id')"
   ]
  },
  {
   "cell_type": "code",
   "execution_count": 23,
   "id": "a89b17f2",
   "metadata": {
    "execution": {
     "iopub.execute_input": "2022-02-23T10:35:02.991639Z",
     "iopub.status.busy": "2022-02-23T10:35:02.990914Z",
     "iopub.status.idle": "2022-02-23T10:35:04.217378Z",
     "shell.execute_reply": "2022-02-23T10:35:04.216773Z",
     "shell.execute_reply.started": "2022-02-23T06:16:57.601733Z"
    },
    "papermill": {
     "duration": 1.310961,
     "end_time": "2022-02-23T10:35:04.217551",
     "exception": false,
     "start_time": "2022-02-23T10:35:02.906590",
     "status": "completed"
    },
    "tags": []
   },
   "outputs": [],
   "source": [
    "cat = categorical.groupby('rider_id').agg(['sum', 'mean']).reset_index()\n",
    "cat.columns = ['rider_id',\n",
    "               'reassignment_method_sum','reassignment_method_mean',\n",
    "               'reassignment_reason_sum','reassignment_reason_mean',\n",
    "               'day_sum','day_mean',\n",
    "               'accept_time_NA_sum','accept_time_NA_mean',\n",
    "                'alloted_orders_NA_sum','alloted_orders_NA_mean',\n",
    "                'delivered_orders_NA_sum','delivered_orders_NA_mean',\n",
    "                'undelivered_orders_NA_sum','undelivered_orders_NA_mean',\n",
    "                'lifetime_order_count_NA_sum','lifetime_order_count_NA_mean',\n",
    "                'session_time_NA_sum','session_time_NA_mean',\n",
    "                'morning_sum','morning_mean',\n",
    "                'noon_sum','noon_mean',\n",
    "                'evening_sum','evening_mean',\n",
    "                'aftermidnight_sum','aftermidnight_mean',\n",
    "                'is_weekend__sum','is_weekend_mean']\n",
    "dataset = dataset.merge(cat,how = 'left', on = 'rider_id')\n",
    "\n",
    "\n",
    "cat = categorical_test.groupby('rider_id').agg(['sum', 'mean']).reset_index()\n",
    "cat.columns = ['rider_id',\n",
    "               'reassignment_method_sum','reassignment_method_mean',\n",
    "               'reassignment_reason_sum','reassignment_reason_mean',\n",
    "               'day_sum','day_mean',\n",
    "               'accept_time_NA_sum','accept_time_NA_mean',\n",
    "                'alloted_orders_NA_sum','alloted_orders_NA_mean',\n",
    "                'delivered_orders_NA_sum','delivered_orders_NA_mean',\n",
    "                'undelivered_orders_NA_sum','undelivered_orders_NA_mean',\n",
    "                'lifetime_order_count_NA_sum','lifetime_order_count_NA_mean',\n",
    "                'session_time_NA_sum','session_time_NA_mean',\n",
    "                'morning_sum','morning_mean',\n",
    "                'noon_sum','noon_mean',\n",
    "                'evening_sum','evening_mean',\n",
    "                'aftermidnight_sum','aftermidnight_mean',\n",
    "                'is_weekend__sum','is_weekend_mean']\n",
    "test_dataset = test_dataset.merge(cat,how = 'left', on = 'rider_id')"
   ]
  },
  {
   "cell_type": "code",
   "execution_count": 24,
   "id": "c5698d48",
   "metadata": {
    "execution": {
     "iopub.execute_input": "2022-02-23T10:35:04.332712Z",
     "iopub.status.busy": "2022-02-23T10:35:04.332006Z",
     "iopub.status.idle": "2022-02-23T10:35:04.873187Z",
     "shell.execute_reply": "2022-02-23T10:35:04.873717Z",
     "shell.execute_reply.started": "2022-02-23T06:16:58.772250Z"
    },
    "papermill": {
     "duration": 0.602653,
     "end_time": "2022-02-23T10:35:04.873932",
     "exception": false,
     "start_time": "2022-02-23T10:35:04.271279",
     "status": "completed"
    },
    "tags": []
   },
   "outputs": [],
   "source": [
    "dataset.drop(['order_time', 'order_id', 'order_date', 'allot_time', 'accept_time',\n",
    "       'rider_id',],axis=1,inplace=True)\n",
    "\n",
    "id = test_dataset['order_id']\n",
    "\n",
    "test_dataset.drop(['order_time', 'order_id', 'order_date', 'allot_time', 'accept_time',\n",
    "       'rider_id',],axis=1,inplace=True)"
   ]
  },
  {
   "cell_type": "code",
   "execution_count": 25,
   "id": "d9fd8efd",
   "metadata": {
    "execution": {
     "iopub.execute_input": "2022-02-23T10:35:04.989280Z",
     "iopub.status.busy": "2022-02-23T10:35:04.988558Z",
     "iopub.status.idle": "2022-02-23T10:35:04.991396Z",
     "shell.execute_reply": "2022-02-23T10:35:04.991952Z",
     "shell.execute_reply.started": "2022-02-23T06:16:59.448293Z"
    },
    "papermill": {
     "duration": 0.064002,
     "end_time": "2022-02-23T10:35:04.992145",
     "exception": false,
     "start_time": "2022-02-23T10:35:04.928143",
     "status": "completed"
    },
    "tags": []
   },
   "outputs": [
    {
     "data": {
      "text/plain": [
       "\"corrs = dataset.corr()\\ncorrs = corrs.sort_values('cancelled', ascending = False)\\n\\n# Set the threshold\\nthreshold = 0.99\\n\\n# Empty dictionary to hold correlated variables\\nabove_threshold_vars = {}\\n\\n# For each column, record the variables that are above the threshold\\nfor col in corrs:\\n    above_threshold_vars[col] = list(corrs.index[corrs[col] > threshold])\\n\\n# Track columns to remove and columns already examined\\ncols_to_remove = []\\ncols_seen = []\\ncols_to_remove_pair = []\\n\\n# Iterate through columns and correlated columns\\nfor key, value in above_threshold_vars.items():\\n    # Keep track of columns already examined\\n    cols_seen.append(key)\\n    for x in value:\\n        if x == key:\\n            next\\n        else:\\n            # Only want to remove one in a pair\\n            if x not in cols_seen:\\n                cols_to_remove.append(x)\\n                cols_to_remove_pair.append(key)\\n            \\ncols_to_remove = list(set(cols_to_remove))\\nprint('Number of columns to remove: ', len(cols_to_remove))\""
      ]
     },
     "execution_count": 25,
     "metadata": {},
     "output_type": "execute_result"
    }
   ],
   "source": [
    "'''corrs = dataset.corr()\n",
    "corrs = corrs.sort_values('cancelled', ascending = False)\n",
    "\n",
    "# Set the threshold\n",
    "threshold = 0.99\n",
    "\n",
    "# Empty dictionary to hold correlated variables\n",
    "above_threshold_vars = {}\n",
    "\n",
    "# For each column, record the variables that are above the threshold\n",
    "for col in corrs:\n",
    "    above_threshold_vars[col] = list(corrs.index[corrs[col] > threshold])\n",
    "\n",
    "# Track columns to remove and columns already examined\n",
    "cols_to_remove = []\n",
    "cols_seen = []\n",
    "cols_to_remove_pair = []\n",
    "\n",
    "# Iterate through columns and correlated columns\n",
    "for key, value in above_threshold_vars.items():\n",
    "    # Keep track of columns already examined\n",
    "    cols_seen.append(key)\n",
    "    for x in value:\n",
    "        if x == key:\n",
    "            next\n",
    "        else:\n",
    "            # Only want to remove one in a pair\n",
    "            if x not in cols_seen:\n",
    "                cols_to_remove.append(x)\n",
    "                cols_to_remove_pair.append(key)\n",
    "            \n",
    "cols_to_remove = list(set(cols_to_remove))\n",
    "print('Number of columns to remove: ', len(cols_to_remove))'''"
   ]
  },
  {
   "cell_type": "code",
   "execution_count": 26,
   "id": "3e7984cf",
   "metadata": {
    "execution": {
     "iopub.execute_input": "2022-02-23T10:35:05.106973Z",
     "iopub.status.busy": "2022-02-23T10:35:05.106236Z",
     "iopub.status.idle": "2022-02-23T10:35:05.108943Z",
     "shell.execute_reply": "2022-02-23T10:35:05.109437Z",
     "shell.execute_reply.started": "2022-02-23T06:16:59.456944Z"
    },
    "papermill": {
     "duration": 0.063136,
     "end_time": "2022-02-23T10:35:05.109638",
     "exception": false,
     "start_time": "2022-02-23T10:35:05.046502",
     "status": "completed"
    },
    "tags": []
   },
   "outputs": [
    {
     "data": {
      "text/plain": [
       "'dataset = dataset.drop(columns = cols_to_remove)\\ntest_dataset = test_dataset.drop(columns = cols_to_remove)'"
      ]
     },
     "execution_count": 26,
     "metadata": {},
     "output_type": "execute_result"
    }
   ],
   "source": [
    "'''dataset = dataset.drop(columns = cols_to_remove)\n",
    "test_dataset = test_dataset.drop(columns = cols_to_remove)'''"
   ]
  },
  {
   "cell_type": "code",
   "execution_count": 27,
   "id": "1889a4ce",
   "metadata": {
    "execution": {
     "iopub.execute_input": "2022-02-23T10:35:05.345867Z",
     "iopub.status.busy": "2022-02-23T10:35:05.345126Z",
     "iopub.status.idle": "2022-02-23T10:35:06.003340Z",
     "shell.execute_reply": "2022-02-23T10:35:06.002595Z",
     "shell.execute_reply.started": "2022-02-23T06:16:59.471491Z"
    },
    "papermill": {
     "duration": 0.83958,
     "end_time": "2022-02-23T10:35:06.003519",
     "exception": false,
     "start_time": "2022-02-23T10:35:05.163939",
     "status": "completed"
    },
    "tags": []
   },
   "outputs": [],
   "source": [
    "X = dataset.drop('cancelled',axis=1)\n",
    "y = dataset['cancelled']\n",
    "\n",
    "from sklearn.model_selection import train_test_split\n",
    "X_train, X_test, y_train, y_test = train_test_split(X,y,random_state=42,test_size=0.05,stratify=y)\n",
    "# test_dataset = test_dataset.drop(),drop_first=True)"
   ]
  },
  {
   "cell_type": "code",
   "execution_count": 28,
   "id": "62138260",
   "metadata": {
    "execution": {
     "iopub.execute_input": "2022-02-23T10:35:06.119342Z",
     "iopub.status.busy": "2022-02-23T10:35:06.118683Z",
     "iopub.status.idle": "2022-02-23T10:35:06.199221Z",
     "shell.execute_reply": "2022-02-23T10:35:06.199895Z",
     "shell.execute_reply.started": "2022-02-23T06:17:00.349715Z"
    },
    "papermill": {
     "duration": 0.140287,
     "end_time": "2022-02-23T10:35:06.200091",
     "exception": false,
     "start_time": "2022-02-23T10:35:06.059804",
     "status": "completed"
    },
    "tags": []
   },
   "outputs": [
    {
     "name": "stdout",
     "output_type": "stream",
     "text": [
      "0.505864491897866 43.1294390637611\n"
     ]
    }
   ],
   "source": [
    "count = Counter(y_train)\n",
    "zero = count[0]\n",
    "one = count[1]\n",
    "total = zero + one\n",
    "weight_for_0 = (1 / zero) * (total / 2.0)\n",
    "weight_for_1 = (1 / one) * (total / 2.0)\n",
    "print(weight_for_0,weight_for_1)"
   ]
  },
  {
   "cell_type": "code",
   "execution_count": 29,
   "id": "3a954a7d",
   "metadata": {
    "execution": {
     "iopub.execute_input": "2022-02-23T10:35:06.313126Z",
     "iopub.status.busy": "2022-02-23T10:35:06.312413Z",
     "iopub.status.idle": "2022-02-23T10:35:06.326049Z",
     "shell.execute_reply": "2022-02-23T10:35:06.326672Z",
     "shell.execute_reply.started": "2022-02-23T06:17:00.436037Z"
    },
    "papermill": {
     "duration": 0.071899,
     "end_time": "2022-02-23T10:35:06.326873",
     "exception": false,
     "start_time": "2022-02-23T10:35:06.254974",
     "status": "completed"
    },
    "tags": []
   },
   "outputs": [
    {
     "name": "stdout",
     "output_type": "stream",
     "text": [
      "<class 'pandas.core.frame.DataFrame'>\n",
      "Int64Index: 144844 entries, 0 to 144843\n",
      "Columns: 109 entries, first_mile_distance to is_weekend_mean\n",
      "dtypes: float64(45), int64(64)\n",
      "memory usage: 121.6 MB\n"
     ]
    }
   ],
   "source": [
    "test_dataset.info()"
   ]
  },
  {
   "cell_type": "code",
   "execution_count": 30,
   "id": "2581c984",
   "metadata": {
    "execution": {
     "iopub.execute_input": "2022-02-23T10:35:06.440710Z",
     "iopub.status.busy": "2022-02-23T10:35:06.440032Z",
     "iopub.status.idle": "2022-02-23T10:35:06.445709Z",
     "shell.execute_reply": "2022-02-23T10:35:06.446256Z",
     "shell.execute_reply.started": "2022-02-23T06:17:00.460519Z"
    },
    "papermill": {
     "duration": 0.064342,
     "end_time": "2022-02-23T10:35:06.446443",
     "exception": false,
     "start_time": "2022-02-23T10:35:06.382101",
     "status": "completed"
    },
    "tags": []
   },
   "outputs": [],
   "source": [
    "from sklearn.metrics import confusion_matrix,accuracy_score,classification_report,roc_auc_score,roc_curve,precision_recall_curve,plot_precision_recall_curve\n",
    "def model_evaluation(model,X_test,y_test):\n",
    "    y_pred = model.predict(X_test)\n",
    "\n",
    "    cm = confusion_matrix(y_test,y_pred)\n",
    "    print(cm)\n",
    "    print(f\"\\nAccuracy: {accuracy_score(y_test, y_pred)}\")\n",
    "    print(classification_report(y_test,y_pred))\n",
    "    print(f\"ROC-AUC score: {roc_auc_score(y_test,model.predict_proba(X_test)[:,1])}\")"
   ]
  },
  {
   "cell_type": "code",
   "execution_count": 31,
   "id": "98a5f2f0",
   "metadata": {
    "execution": {
     "iopub.execute_input": "2022-02-23T10:35:06.561002Z",
     "iopub.status.busy": "2022-02-23T10:35:06.560355Z",
     "iopub.status.idle": "2022-02-23T10:35:06.568486Z",
     "shell.execute_reply": "2022-02-23T10:35:06.569017Z",
     "shell.execute_reply.started": "2022-02-23T06:17:00.472033Z"
    },
    "papermill": {
     "duration": 0.067329,
     "end_time": "2022-02-23T10:35:06.569209",
     "exception": false,
     "start_time": "2022-02-23T10:35:06.501880",
     "status": "completed"
    },
    "tags": []
   },
   "outputs": [],
   "source": [
    "def plot_roc_curve(model,X_test,y_test):\n",
    "    fpr, tpr, thresholds = roc_curve(y_test, model.predict_proba(X_test)[:,1])\n",
    "    # get the best threshold\n",
    "    J = tpr - fpr\n",
    "    from numpy import argmax\n",
    "    ix = argmax(J)\n",
    "    best_thresh = thresholds[ix]\n",
    "    print('Best Threshold=%f' % (best_thresh))\n",
    "    label=\"AUC = %.3f\" % roc_auc_score(y_test, model.predict_proba(X_test)[:,1])\n",
    "    plt.figure(figsize=(8, 6))\n",
    "    plt.title('ROC Curve', fontsize=15)\n",
    "    plt.plot([0, 1], [0, 1], 'k--')\n",
    "    plt.plot(fpr, tpr, linewidth=2, label=label)\n",
    "    plt.xticks(np.arange(0, 1, 0.05), rotation=90)\n",
    "    plt.xlabel('False Positive Rates', fontsize=15)\n",
    "    plt.ylabel('True Positive Rates', fontsize=15)\n",
    "    plt.legend(loc='best')\n",
    "    plt.show()"
   ]
  },
  {
   "cell_type": "code",
   "execution_count": 32,
   "id": "e6c48aea",
   "metadata": {
    "execution": {
     "iopub.execute_input": "2022-02-23T10:35:06.683388Z",
     "iopub.status.busy": "2022-02-23T10:35:06.682720Z",
     "iopub.status.idle": "2022-02-23T10:35:06.689164Z",
     "shell.execute_reply": "2022-02-23T10:35:06.689648Z",
     "shell.execute_reply.started": "2022-02-23T06:17:00.486871Z"
    },
    "papermill": {
     "duration": 0.064905,
     "end_time": "2022-02-23T10:35:06.689863",
     "exception": false,
     "start_time": "2022-02-23T10:35:06.624958",
     "status": "completed"
    },
    "tags": []
   },
   "outputs": [],
   "source": [
    "def prec_recall_curve(model,X_test,y_test):\n",
    "    y_score = model.predict_proba(X_test)[:,1]\n",
    "    #calculate precision and recall\n",
    "    precision, recall, thresholds = precision_recall_curve(y_test, y_score)\n",
    "    J = recall-precision\n",
    "    from numpy import argmax\n",
    "    ix = argmax(J)\n",
    "    best_thresh = thresholds[ix]\n",
    "    print('Best Threshold=%f' % (best_thresh))\n",
    "\n",
    "    #create precision recall curve\n",
    "    fig, ax = plt.subplots()\n",
    "    ax.plot(recall, precision, color='purple')\n",
    "\n",
    "    #add axis labels to plot\n",
    "    ax.set_title('Precision-Recall Curve')\n",
    "    ax.set_ylabel('Precision')\n",
    "    ax.set_xlabel('Recall')\n",
    "\n",
    "    #display plot\n",
    "    plt.show()"
   ]
  },
  {
   "cell_type": "code",
   "execution_count": 33,
   "id": "04aa9b8e",
   "metadata": {
    "execution": {
     "iopub.execute_input": "2022-02-23T10:35:06.805001Z",
     "iopub.status.busy": "2022-02-23T10:35:06.804303Z",
     "iopub.status.idle": "2022-02-23T10:35:08.284711Z",
     "shell.execute_reply": "2022-02-23T10:35:08.283850Z",
     "shell.execute_reply.started": "2022-02-23T06:17:00.501651Z"
    },
    "papermill": {
     "duration": 1.539349,
     "end_time": "2022-02-23T10:35:08.284886",
     "exception": false,
     "start_time": "2022-02-23T10:35:06.745537",
     "status": "completed"
    },
    "tags": []
   },
   "outputs": [],
   "source": [
    "from sklearn.preprocessing import StandardScaler\n",
    "\n",
    "sc = StandardScaler()\n",
    "X_train_ = sc.fit_transform(X_train)\n",
    "X_test_ = sc.transform(X_test)\n",
    "test_dataset_ = sc.transform(test_dataset)"
   ]
  },
  {
   "cell_type": "code",
   "execution_count": 34,
   "id": "d9e790de",
   "metadata": {
    "execution": {
     "iopub.execute_input": "2022-02-23T10:35:08.401359Z",
     "iopub.status.busy": "2022-02-23T10:35:08.400319Z",
     "iopub.status.idle": "2022-02-23T10:35:09.179420Z",
     "shell.execute_reply": "2022-02-23T10:35:09.180190Z",
     "shell.execute_reply.started": "2022-02-23T06:17:02.157550Z"
    },
    "papermill": {
     "duration": 0.840564,
     "end_time": "2022-02-23T10:35:09.180465",
     "exception": false,
     "start_time": "2022-02-23T10:35:08.339901",
     "status": "completed"
    },
    "tags": []
   },
   "outputs": [
    {
     "name": "stdout",
     "output_type": "stream",
     "text": [
      "Original dataset shape Counter({0: 422543, 1: 4956})\n",
      "Undersample dataset shape Counter({0: 4956, 1: 4956})\n"
     ]
    }
   ],
   "source": [
    "from imblearn.under_sampling import RandomUnderSampler\n",
    "from collections import Counter\n",
    "Ras = RandomUnderSampler()\n",
    "X_under, y_under = Ras.fit_resample(X_train,y_train)\n",
    "print('Original dataset shape', Counter(y_train))\n",
    "print('Undersample dataset shape', Counter(y_under))"
   ]
  },
  {
   "cell_type": "code",
   "execution_count": 35,
   "id": "529c71fa",
   "metadata": {
    "execution": {
     "iopub.execute_input": "2022-02-23T10:35:09.298845Z",
     "iopub.status.busy": "2022-02-23T10:35:09.297819Z",
     "iopub.status.idle": "2022-02-23T10:35:09.303741Z",
     "shell.execute_reply": "2022-02-23T10:35:09.304345Z",
     "shell.execute_reply.started": "2022-02-23T06:17:02.553026Z"
    },
    "papermill": {
     "duration": 0.066824,
     "end_time": "2022-02-23T10:35:09.304539",
     "exception": false,
     "start_time": "2022-02-23T10:35:09.237715",
     "status": "completed"
    },
    "tags": []
   },
   "outputs": [
    {
     "data": {
      "text/plain": [
       "\"from imblearn.over_sampling import SMOTE\\nsmt = SMOTE()\\nX_over, y_over = smt.fit_resample(X_train, y_train)\\nprint('Original dataset shape', Counter(y_train))\\nprint('oversampling dataset shape', Counter(y_over))\""
      ]
     },
     "execution_count": 35,
     "metadata": {},
     "output_type": "execute_result"
    }
   ],
   "source": [
    "'''from imblearn.over_sampling import SMOTE\n",
    "smt = SMOTE()\n",
    "X_over, y_over = smt.fit_resample(X_train, y_train)\n",
    "print('Original dataset shape', Counter(y_train))\n",
    "print('oversampling dataset shape', Counter(y_over))'''"
   ]
  },
  {
   "cell_type": "code",
   "execution_count": 36,
   "id": "cff75600",
   "metadata": {
    "execution": {
     "iopub.execute_input": "2022-02-23T10:35:09.422710Z",
     "iopub.status.busy": "2022-02-23T10:35:09.421726Z",
     "iopub.status.idle": "2022-02-23T10:46:04.423125Z",
     "shell.execute_reply": "2022-02-23T10:46:04.423839Z",
     "shell.execute_reply.started": "2022-02-23T06:17:02.563831Z"
    },
    "papermill": {
     "duration": 655.062091,
     "end_time": "2022-02-23T10:46:04.424073",
     "exception": false,
     "start_time": "2022-02-23T10:35:09.361982",
     "status": "completed"
    },
    "tags": []
   },
   "outputs": [
    {
     "name": "stdout",
     "output_type": "stream",
     "text": [
      "[[20515  1724]\n",
      " [   62   199]]\n",
      "\n",
      "Accuracy: 0.9206222222222222\n",
      "              precision    recall  f1-score   support\n",
      "\n",
      "           0       1.00      0.92      0.96     22239\n",
      "           1       0.10      0.76      0.18       261\n",
      "\n",
      "    accuracy                           0.92     22500\n",
      "   macro avg       0.55      0.84      0.57     22500\n",
      "weighted avg       0.99      0.92      0.95     22500\n",
      "\n",
      "ROC-AUC score: 0.9254132095784925\n",
      "Best Threshold=0.309209\n"
     ]
    },
    {
     "data": {
      "image/png": "[encoded data removed]",
      "text/plain": [
       "<Figure size 576x432 with 1 Axes>"
      ]
     },
     "metadata": {
      "needs_background": "light"
     },
     "output_type": "display_data"
    },
    {
     "name": "stdout",
     "output_type": "stream",
     "text": [
      "Best Threshold=0.020694\n"
     ]
    },
    {
     "data": {
      "image/png": "[encoded data removed]",
      "text/plain": [
       "<Figure size 432x288 with 1 Axes>"
      ]
     },
     "metadata": {
      "needs_background": "light"
     },
     "output_type": "display_data"
    }
   ],
   "source": [
    "from xgboost import XGBClassifier\n",
    "model_1 = XGBClassifier( n_estimators=600, learning_rate=0.013185216741789522,\n",
    "                       subsample=0.9, colsample_bytree=0.8,\n",
    "                       reg_alpha=6, reg_lambda=5, max_depth=5,\n",
    "                       min_child_weight=184, scale_pos_weight=45,random_state=42)\n",
    "model_1.fit(X_train, y_train, eval_metric='auc')\n",
    "model_evaluation(model_1,X_test,y_test)\n",
    "plot_roc_curve(model_1,X_test,y_test)\n",
    "prec_recall_curve(model_1,X_test,y_test)"
   ]
  },
  {
   "cell_type": "code",
   "execution_count": 37,
   "id": "5aacfae4",
   "metadata": {
    "execution": {
     "iopub.execute_input": "2022-02-23T10:46:04.553791Z",
     "iopub.status.busy": "2022-02-23T10:46:04.553015Z",
     "iopub.status.idle": "2022-02-23T10:52:50.407443Z",
     "shell.execute_reply": "2022-02-23T10:52:50.408216Z",
     "shell.execute_reply.started": "2022-02-23T06:27:18.508941Z"
    },
    "papermill": {
     "duration": 405.924313,
     "end_time": "2022-02-23T10:52:50.408551",
     "exception": false,
     "start_time": "2022-02-23T10:46:04.484238",
     "status": "completed"
    },
    "tags": []
   },
   "outputs": [
    {
     "name": "stdout",
     "output_type": "stream",
     "text": [
      "[[19103  3136]\n",
      " [   40   221]]\n",
      "\n",
      "Accuracy: 0.8588444444444444\n",
      "              precision    recall  f1-score   support\n",
      "\n",
      "           0       1.00      0.86      0.92     22239\n",
      "           1       0.07      0.85      0.12       261\n",
      "\n",
      "    accuracy                           0.86     22500\n",
      "   macro avg       0.53      0.85      0.52     22500\n",
      "weighted avg       0.99      0.86      0.91     22500\n",
      "\n",
      "ROC-AUC score: 0.9287637833435756\n",
      "Best Threshold=0.406235\n"
     ]
    },
    {
     "data": {
      "image/png": "[encoded data removed]",
      "text/plain": [
       "<Figure size 576x432 with 1 Axes>"
      ]
     },
     "metadata": {
      "needs_background": "light"
     },
     "output_type": "display_data"
    },
    {
     "name": "stdout",
     "output_type": "stream",
     "text": [
      "Best Threshold=0.021725\n"
     ]
    },
    {
     "data": {
      "image/png": "[encoded data removed]",
      "text/plain": [
       "<Figure size 432x288 with 1 Axes>"
      ]
     },
     "metadata": {
      "needs_background": "light"
     },
     "output_type": "display_data"
    }
   ],
   "source": [
    "# explicitly require this experimental feature\n",
    "from sklearn.experimental import enable_hist_gradient_boosting \n",
    "from sklearn.ensemble import HistGradientBoostingClassifier\n",
    "from imblearn.ensemble import BalancedBaggingClassifier\n",
    "\n",
    "model_2 =  BalancedBaggingClassifier(\n",
    "        base_estimator=HistGradientBoostingClassifier(random_state=42,\n",
    "        learning_rate=0.1,max_bins=255,scoring='roc_auc'),\n",
    "        n_estimators=100,n_jobs=2,\n",
    "        random_state=42)\n",
    "\n",
    "model_2.fit(X_train, y_train)\n",
    "model_evaluation(model_2,X_test,y_test)\n",
    "plot_roc_curve(model_2,X_test,y_test)\n",
    "prec_recall_curve(model_2,X_test,y_test)"
   ]
  },
  {
   "cell_type": "code",
   "execution_count": 38,
   "id": "26150219",
   "metadata": {
    "execution": {
     "iopub.execute_input": "2022-02-23T10:52:50.562864Z",
     "iopub.status.busy": "2022-02-23T10:52:50.562038Z",
     "iopub.status.idle": "2022-02-23T11:37:12.904151Z",
     "shell.execute_reply": "2022-02-23T11:37:12.903335Z"
    },
    "papermill": {
     "duration": 2662.42164,
     "end_time": "2022-02-23T11:37:12.904437",
     "exception": false,
     "start_time": "2022-02-23T10:52:50.482797",
     "status": "completed"
    },
    "tags": []
   },
   "outputs": [
    {
     "name": "stdout",
     "output_type": "stream",
     "text": [
      "[[18564  3675]\n",
      " [   31   230]]\n",
      "\n",
      "Accuracy: 0.8352888888888889\n",
      "              precision    recall  f1-score   support\n",
      "\n",
      "           0       1.00      0.83      0.91     22239\n",
      "           1       0.06      0.88      0.11       261\n",
      "\n",
      "    accuracy                           0.84     22500\n",
      "   macro avg       0.53      0.86      0.51     22500\n",
      "weighted avg       0.99      0.84      0.90     22500\n",
      "\n",
      "ROC-AUC score: 0.9299882037337672\n",
      "Best Threshold=0.489000\n"
     ]
    },
    {
     "data": {
      "image/png": "[encoded data removed]",
      "text/plain": [
       "<Figure size 576x432 with 1 Axes>"
      ]
     },
     "metadata": {
      "needs_background": "light"
     },
     "output_type": "display_data"
    },
    {
     "name": "stdout",
     "output_type": "stream",
     "text": [
      "Best Threshold=0.026191\n"
     ]
    },
    {
     "data": {
      "image/png": "[encoded data removed]",
      "text/plain": [
       "<Figure size 432x288 with 1 Axes>"
      ]
     },
     "metadata": {
      "needs_background": "light"
     },
     "output_type": "display_data"
    }
   ],
   "source": [
    "from sklearn.experimental import enable_hist_gradient_boosting \n",
    "from sklearn.ensemble import HistGradientBoostingClassifier \n",
    "from imblearn.ensemble import EasyEnsembleClassifier \n",
    "\n",
    "model_3 = EasyEnsembleClassifier( \n",
    "        base_estimator=HistGradientBoostingClassifier(random_state=42,\n",
    "        learning_rate=0.1,max_bins=255,scoring='roc_auc'),\n",
    "        n_estimators=600,\n",
    "        random_state=42 )\n",
    "\n",
    "model_3.fit(X_train, y_train)\n",
    "model_evaluation(model_3,X_test,y_test)\n",
    "plot_roc_curve(model_3,X_test,y_test)\n",
    "prec_recall_curve(model_3,X_test,y_test)"
   ]
  },
  {
   "cell_type": "code",
   "execution_count": 39,
   "id": "3f042f28",
   "metadata": {
    "execution": {
     "iopub.execute_input": "2022-02-23T11:37:13.082261Z",
     "iopub.status.busy": "2022-02-23T11:37:13.081352Z",
     "iopub.status.idle": "2022-02-23T11:37:17.027995Z",
     "shell.execute_reply": "2022-02-23T11:37:17.029315Z"
    },
    "papermill": {
     "duration": 4.042932,
     "end_time": "2022-02-23T11:37:17.029578",
     "exception": false,
     "start_time": "2022-02-23T11:37:12.986646",
     "status": "completed"
    },
    "tags": []
   },
   "outputs": [
    {
     "name": "stdout",
     "output_type": "stream",
     "text": [
      "[[18541  3698]\n",
      " [   31   230]]\n",
      "\n",
      "Accuracy: 0.8342666666666667\n",
      "              precision    recall  f1-score   support\n",
      "\n",
      "           0       1.00      0.83      0.91     22239\n",
      "           1       0.06      0.88      0.11       261\n",
      "\n",
      "    accuracy                           0.83     22500\n",
      "   macro avg       0.53      0.86      0.51     22500\n",
      "weighted avg       0.99      0.83      0.90     22500\n",
      "\n",
      "ROC-AUC score: 0.9243204139495371\n",
      "Best Threshold=0.498211\n"
     ]
    },
    {
     "data": {
      "image/png": "[encoded data removed]",
      "text/plain": [
       "<Figure size 576x432 with 1 Axes>"
      ]
     },
     "metadata": {
      "needs_background": "light"
     },
     "output_type": "display_data"
    },
    {
     "name": "stdout",
     "output_type": "stream",
     "text": [
      "Best Threshold=0.023277\n"
     ]
    },
    {
     "data": {
      "image/png": "[encoded data removed]",
      "text/plain": [
       "<Figure size 432x288 with 1 Axes>"
      ]
     },
     "metadata": {
      "needs_background": "light"
     },
     "output_type": "display_data"
    }
   ],
   "source": [
    "from sklearn.experimental import enable_hist_gradient_boosting \n",
    "from sklearn.ensemble import HistGradientBoostingClassifier\n",
    "\n",
    "model_4 = HistGradientBoostingClassifier(random_state=42,max_iter=100,\n",
    "        learning_rate=0.1,max_bins=255,scoring='roc_auc')\n",
    "\n",
    "model_4.fit(X_under, y_under)\n",
    "model_evaluation(model_4,X_test,y_test)\n",
    "plot_roc_curve(model_4,X_test,y_test)\n",
    "prec_recall_curve(model_4,X_test,y_test)"
   ]
  },
  {
   "cell_type": "code",
   "execution_count": 40,
   "id": "6c6c0231",
   "metadata": {
    "execution": {
     "iopub.execute_input": "2022-02-23T11:37:17.216234Z",
     "iopub.status.busy": "2022-02-23T11:37:17.215389Z",
     "iopub.status.idle": "2022-02-23T11:37:24.604246Z",
     "shell.execute_reply": "2022-02-23T11:37:24.603540Z"
    },
    "papermill": {
     "duration": 7.48509,
     "end_time": "2022-02-23T11:37:24.604424",
     "exception": false,
     "start_time": "2022-02-23T11:37:17.119334",
     "status": "completed"
    },
    "tags": []
   },
   "outputs": [
    {
     "name": "stdout",
     "output_type": "stream",
     "text": [
      "[11:37:17] WARNING: ../src/learner.cc:1115: Starting in XGBoost 1.3.0, the default evaluation metric used with the objective 'binary:logistic' was changed from 'error' to 'logloss'. Explicitly set eval_metric if you'd like to restore the old behavior.\n",
      "[[18475  3764]\n",
      " [   45   216]]\n",
      "\n",
      "Accuracy: 0.8307111111111111\n",
      "              precision    recall  f1-score   support\n",
      "\n",
      "           0       1.00      0.83      0.91     22239\n",
      "           1       0.05      0.83      0.10       261\n",
      "\n",
      "    accuracy                           0.83     22500\n",
      "   macro avg       0.53      0.83      0.50     22500\n",
      "weighted avg       0.99      0.83      0.90     22500\n",
      "\n",
      "ROC-AUC score: 0.9123794293928773\n",
      "Best Threshold=0.400790\n"
     ]
    },
    {
     "data": {
      "image/png": "[encoded data removed]",
      "text/plain": [
       "<Figure size 576x432 with 1 Axes>"
      ]
     },
     "metadata": {
      "needs_background": "light"
     },
     "output_type": "display_data"
    },
    {
     "name": "stdout",
     "output_type": "stream",
     "text": [
      "Best Threshold=0.007859\n"
     ]
    },
    {
     "data": {
      "image/png": "[encoded data removed]",
      "text/plain": [
       "<Figure size 432x288 with 1 Axes>"
      ]
     },
     "metadata": {
      "needs_background": "light"
     },
     "output_type": "display_data"
    }
   ],
   "source": [
    "from xgboost import XGBClassifier\n",
    "model_5 = XGBClassifier(random_state=42)\n",
    "model_5.fit(X_under,y_under)\n",
    "\n",
    "model_evaluation(model_5,X_test,y_test)\n",
    "plot_roc_curve(model_5,X_test,y_test)\n",
    "prec_recall_curve(model_5,X_test,y_test)"
   ]
  },
  {
   "cell_type": "code",
   "execution_count": 41,
   "id": "cd3979db",
   "metadata": {
    "execution": {
     "iopub.execute_input": "2022-02-23T11:37:24.767110Z",
     "iopub.status.busy": "2022-02-23T11:37:24.766192Z",
     "iopub.status.idle": "2022-02-23T11:37:27.782041Z",
     "shell.execute_reply": "2022-02-23T11:37:27.782533Z"
    },
    "papermill": {
     "duration": 3.101404,
     "end_time": "2022-02-23T11:37:27.782768",
     "exception": false,
     "start_time": "2022-02-23T11:37:24.681364",
     "status": "completed"
    },
    "tags": []
   },
   "outputs": [
    {
     "data": {
      "text/html": [
       "<style type='text/css'>\n",
       ".datatable table.frame { margin-bottom: 0; }\n",
       ".datatable table.frame thead { border-bottom: none; }\n",
       ".datatable table.frame tr.coltypes td {  color: #FFFFFF;  line-height: 6px;  padding: 0 0.5em;}\n",
       ".datatable .bool    { background: #DDDD99; }\n",
       ".datatable .object  { background: #565656; }\n",
       ".datatable .int     { background: #5D9E5D; }\n",
       ".datatable .float   { background: #4040CC; }\n",
       ".datatable .str     { background: #CC4040; }\n",
       ".datatable .time    { background: #40CC40; }\n",
       ".datatable .row_index {  background: var(--jp-border-color3);  border-right: 1px solid var(--jp-border-color0);  color: var(--jp-ui-font-color3);  font-size: 9px;}\n",
       ".datatable .frame tbody td { text-align: left; }\n",
       ".datatable .frame tr.coltypes .row_index {  background: var(--jp-border-color0);}\n",
       ".datatable th:nth-child(2) { padding-left: 12px; }\n",
       ".datatable .hellipsis {  color: var(--jp-cell-editor-border-color);}\n",
       ".datatable .vellipsis {  background: var(--jp-layout-color0);  color: var(--jp-cell-editor-border-color);}\n",
       ".datatable .na {  color: var(--jp-cell-editor-border-color);  font-size: 80%;}\n",
       ".datatable .sp {  opacity: 0.25;}\n",
       ".datatable .footer { font-size: 9px; }\n",
       ".datatable .frame_dimensions {  background: var(--jp-border-color3);  border-top: 1px solid var(--jp-border-color0);  color: var(--jp-ui-font-color3);  display: inline-block;  opacity: 0.6;  padding: 1px 10px 1px 5px;}\n",
       "</style>\n"
      ],
      "text/plain": [
       "<IPython.core.display.HTML object>"
      ]
     },
     "metadata": {},
     "output_type": "display_data"
    },
    {
     "name": "stdout",
     "output_type": "stream",
     "text": [
      "[[18507  3732]\n",
      " [   33   228]]\n",
      "\n",
      "Accuracy: 0.8326666666666667\n",
      "              precision    recall  f1-score   support\n",
      "\n",
      "           0       1.00      0.83      0.91     22239\n",
      "           1       0.06      0.87      0.11       261\n",
      "\n",
      "    accuracy                           0.83     22500\n",
      "   macro avg       0.53      0.85      0.51     22500\n",
      "weighted avg       0.99      0.83      0.90     22500\n",
      "\n",
      "ROC-AUC score: 0.9231218361171798\n",
      "Best Threshold=0.475596\n"
     ]
    },
    {
     "data": {
      "image/png": "[encoded data removed]",
      "text/plain": [
       "<Figure size 576x432 with 1 Axes>"
      ]
     },
     "metadata": {
      "needs_background": "light"
     },
     "output_type": "display_data"
    },
    {
     "name": "stdout",
     "output_type": "stream",
     "text": [
      "Best Threshold=0.027172\n"
     ]
    },
    {
     "data": {
      "image/png": "[encoded data removed]",
      "text/plain": [
       "<Figure size 432x288 with 1 Axes>"
      ]
     },
     "metadata": {
      "needs_background": "light"
     },
     "output_type": "display_data"
    }
   ],
   "source": [
    "import lightgbm as lgb\n",
    "model_6 = lgb.LGBMClassifier()\n",
    "model_6.fit(X_under, y_under)\n",
    "\n",
    "model_evaluation(model_6,X_test,y_test)\n",
    "plot_roc_curve(model_6,X_test,y_test)\n",
    "prec_recall_curve(model_6,X_test,y_test)"
   ]
  },
  {
   "cell_type": "code",
   "execution_count": 42,
   "id": "031a5c2b",
   "metadata": {
    "execution": {
     "iopub.execute_input": "2022-02-23T11:37:27.949796Z",
     "iopub.status.busy": "2022-02-23T11:37:27.949086Z",
     "iopub.status.idle": "2022-02-23T11:37:54.353799Z",
     "shell.execute_reply": "2022-02-23T11:37:54.354760Z"
    },
    "papermill": {
     "duration": 26.49341,
     "end_time": "2022-02-23T11:37:54.355088",
     "exception": false,
     "start_time": "2022-02-23T11:37:27.861678",
     "status": "completed"
    },
    "tags": []
   },
   "outputs": [
    {
     "name": "stdout",
     "output_type": "stream",
     "text": [
      "[[17836  4403]\n",
      " [   39   222]]\n",
      "\n",
      "Accuracy: 0.8025777777777777\n",
      "              precision    recall  f1-score   support\n",
      "\n",
      "           0       1.00      0.80      0.89     22239\n",
      "           1       0.05      0.85      0.09       261\n",
      "\n",
      "    accuracy                           0.80     22500\n",
      "   macro avg       0.52      0.83      0.49     22500\n",
      "weighted avg       0.99      0.80      0.88     22500\n",
      "\n",
      "ROC-AUC score: 0.9003693590649404\n",
      "Best Threshold=0.530000\n"
     ]
    },
    {
     "data": {
      "image/png": "[encoded data removed]",
      "text/plain": [
       "<Figure size 576x432 with 1 Axes>"
      ]
     },
     "metadata": {
      "needs_background": "light"
     },
     "output_type": "display_data"
    },
    {
     "name": "stdout",
     "output_type": "stream",
     "text": [
      "Best Threshold=0.020000\n"
     ]
    },
    {
     "data": {
      "image/png": "[encoded data removed]",
      "text/plain": [
       "<Figure size 432x288 with 1 Axes>"
      ]
     },
     "metadata": {
      "needs_background": "light"
     },
     "output_type": "display_data"
    }
   ],
   "source": [
    "from imblearn.ensemble import BalancedRandomForestClassifier\n",
    "model_7 = BalancedRandomForestClassifier(random_state=42,criterion='entropy')\n",
    "model_7.fit(X_train, y_train)\n",
    "model_evaluation(model_7,X_test,y_test)\n",
    "plot_roc_curve(model_7,X_test,y_test)\n",
    "prec_recall_curve(model_7,X_test,y_test)"
   ]
  },
  {
   "cell_type": "code",
   "execution_count": 43,
   "id": "07e0730f",
   "metadata": {
    "execution": {
     "iopub.execute_input": "2022-02-23T11:37:54.530331Z",
     "iopub.status.busy": "2022-02-23T11:37:54.529320Z",
     "iopub.status.idle": "2022-02-23T11:38:10.753398Z",
     "shell.execute_reply": "2022-02-23T11:38:10.752700Z"
    },
    "papermill": {
     "duration": 16.310459,
     "end_time": "2022-02-23T11:38:10.753559",
     "exception": false,
     "start_time": "2022-02-23T11:37:54.443100",
     "status": "completed"
    },
    "tags": []
   },
   "outputs": [
    {
     "name": "stdout",
     "output_type": "stream",
     "text": [
      "[[18597  3642]\n",
      " [   37   224]]\n",
      "\n",
      "Accuracy: 0.8364888888888888\n",
      "              precision    recall  f1-score   support\n",
      "\n",
      "           0       1.00      0.84      0.91     22239\n",
      "           1       0.06      0.86      0.11       261\n",
      "\n",
      "    accuracy                           0.84     22500\n",
      "   macro avg       0.53      0.85      0.51     22500\n",
      "weighted avg       0.99      0.84      0.90     22500\n",
      "\n",
      "ROC-AUC score: 0.9211007758108146\n",
      "Best Threshold=0.462089\n"
     ]
    },
    {
     "data": {
      "image/png": "[encoded data removed]",
      "text/plain": [
       "<Figure size 576x432 with 1 Axes>"
      ]
     },
     "metadata": {
      "needs_background": "light"
     },
     "output_type": "display_data"
    },
    {
     "name": "stdout",
     "output_type": "stream",
     "text": [
      "Best Threshold=0.029317\n"
     ]
    },
    {
     "data": {
      "image/png": "[encoded data removed]",
      "text/plain": [
       "<Figure size 432x288 with 1 Axes>"
      ]
     },
     "metadata": {
      "needs_background": "light"
     },
     "output_type": "display_data"
    }
   ],
   "source": [
    "from catboost import CatBoostClassifier\n",
    "model_8 = CatBoostClassifier(verbose=False,random_state=42)\n",
    "model_8.fit(X_under, y_under)\n",
    "\n",
    "model_evaluation(model_8,X_test,y_test)\n",
    "plot_roc_curve(model_8,X_test,y_test)\n",
    "prec_recall_curve(model_8,X_test,y_test)"
   ]
  },
  {
   "cell_type": "code",
   "execution_count": 44,
   "id": "6f0ca273",
   "metadata": {
    "execution": {
     "iopub.execute_input": "2022-02-23T11:38:10.931033Z",
     "iopub.status.busy": "2022-02-23T11:38:10.930311Z",
     "iopub.status.idle": "2022-02-23T11:38:12.323881Z",
     "shell.execute_reply": "2022-02-23T11:38:12.324390Z"
    },
    "papermill": {
     "duration": 1.485042,
     "end_time": "2022-02-23T11:38:12.324573",
     "exception": false,
     "start_time": "2022-02-23T11:38:10.839531",
     "status": "completed"
    },
    "tags": []
   },
   "outputs": [
    {
     "name": "stderr",
     "output_type": "stream",
     "text": [
      "2022-02-23 11:38:12.252514: I tensorflow/core/common_runtime/process_util.cc:146] Creating new thread pool with default inter op setting: 2. Tune using inter_op_parallelism_threads for best performance.\n"
     ]
    }
   ],
   "source": [
    "METRICS = [\n",
    "      keras.metrics.TruePositives(name='tp'),\n",
    "      keras.metrics.FalsePositives(name='fp'),\n",
    "      keras.metrics.TrueNegatives(name='tn'),\n",
    "      keras.metrics.FalseNegatives(name='fn'), \n",
    "      keras.metrics.BinaryAccuracy(name='accuracy'),\n",
    "      keras.metrics.Precision(name='precision'),\n",
    "      keras.metrics.Recall(name='recall'),\n",
    "      keras.metrics.AUC(name='auc'),\n",
    "      keras.metrics.AUC(name='prc', curve='PR'), # precision-recall curve\n",
    "]\n",
    "\n",
    "def make_model(metrics=METRICS, output_bias=None):\n",
    "  if output_bias is not None:\n",
    "    output_bias = tf.keras.initializers.Constant(output_bias)\n",
    "  model = keras.Sequential([\n",
    "      keras.layers.Dense(\n",
    "          150, activation='relu', kernel_initializer='he_uniform',\n",
    "          input_shape=(X_train_.shape[-1],)),\n",
    "      keras.layers.Dropout(0.5),\n",
    "      keras.layers.Dense(\n",
    "          50, activation='relu', kernel_initializer='he_uniform'),\n",
    "      keras.layers.Dropout(0.5),\n",
    "      keras.layers.Dense(1, activation='sigmoid',\n",
    "                         bias_initializer=output_bias),\n",
    "  ])\n",
    "\n",
    "  model.compile(\n",
    "      optimizer=keras.optimizers.Adam(learning_rate=1e-3),\n",
    "      loss=keras.losses.BinaryCrossentropy(),\n",
    "      metrics=metrics)\n",
    "\n",
    "  return model"
   ]
  },
  {
   "cell_type": "code",
   "execution_count": 45,
   "id": "d3e77802",
   "metadata": {
    "execution": {
     "iopub.execute_input": "2022-02-23T11:38:12.511134Z",
     "iopub.status.busy": "2022-02-23T11:38:12.510437Z",
     "iopub.status.idle": "2022-02-23T11:45:58.932879Z",
     "shell.execute_reply": "2022-02-23T11:45:58.933650Z",
     "shell.execute_reply.started": "2022-02-23T07:17:34.133943Z"
    },
    "papermill": {
     "duration": 466.523667,
     "end_time": "2022-02-23T11:45:58.933902",
     "exception": false,
     "start_time": "2022-02-23T11:38:12.410235",
     "status": "completed"
    },
    "tags": []
   },
   "outputs": [
    {
     "name": "stderr",
     "output_type": "stream",
     "text": [
      "2022-02-23 11:38:14.044071: I tensorflow/compiler/mlir/mlir_graph_optimization_pass.cc:185] None of the MLIR Optimization Passes are enabled (registered 2)\n"
     ]
    },
    {
     "name": "stdout",
     "output_type": "stream",
     "text": [
      "Epoch 1/100\n",
      "428/428 [==============================] - 7s 10ms/step - loss: 1.5847 - tp: 3813.0000 - fp: 217677.0000 - tn: 204866.0000 - fn: 1143.0000 - accuracy: 0.4881 - precision: 0.0172 - recall: 0.7694 - auc: 0.7063 - prc: 0.0514\n",
      "Epoch 2/100\n",
      "428/428 [==============================] - 5s 11ms/step - loss: 1.1817 - tp: 3984.0000 - fp: 161641.0000 - tn: 260902.0000 - fn: 972.0000 - accuracy: 0.6196 - precision: 0.0241 - recall: 0.8039 - auc: 0.8021 - prc: 0.1365\n",
      "Epoch 3/100\n",
      "428/428 [==============================] - 4s 10ms/step - loss: 1.0519 - tp: 4017.0000 - fp: 124951.0000 - tn: 297592.0000 - fn: 939.0000 - accuracy: 0.7055 - precision: 0.0311 - recall: 0.8105 - auc: 0.8449 - prc: 0.1803\n",
      "Epoch 4/100\n",
      "428/428 [==============================] - 5s 11ms/step - loss: 0.9804 - tp: 4163.0000 - fp: 113419.0000 - tn: 309124.0000 - fn: 793.0000 - accuracy: 0.7328 - precision: 0.0354 - recall: 0.8400 - auc: 0.8702 - prc: 0.1870\n",
      "Epoch 5/100\n",
      "428/428 [==============================] - 5s 12ms/step - loss: 0.9253 - tp: 4216.0000 - fp: 103974.0000 - tn: 318569.0000 - fn: 740.0000 - accuracy: 0.7551 - precision: 0.0390 - recall: 0.8507 - auc: 0.8853 - prc: 0.2014\n",
      "Epoch 6/100\n",
      "428/428 [==============================] - 4s 10ms/step - loss: 0.8972 - tp: 4287.0000 - fp: 103074.0000 - tn: 319469.0000 - fn: 669.0000 - accuracy: 0.7573 - precision: 0.0399 - recall: 0.8650 - auc: 0.8933 - prc: 0.2092\n",
      "Epoch 7/100\n",
      "428/428 [==============================] - 4s 10ms/step - loss: 0.8627 - tp: 4333.0000 - fp: 98750.0000 - tn: 323793.0000 - fn: 623.0000 - accuracy: 0.7675 - precision: 0.0420 - recall: 0.8743 - auc: 0.9011 - prc: 0.2198\n",
      "Epoch 8/100\n",
      "428/428 [==============================] - 4s 10ms/step - loss: 0.8557 - tp: 4370.0000 - fp: 97912.0000 - tn: 324631.0000 - fn: 586.0000 - accuracy: 0.7696 - precision: 0.0427 - recall: 0.8818 - auc: 0.9031 - prc: 0.2196\n",
      "Epoch 9/100\n",
      "428/428 [==============================] - 4s 10ms/step - loss: 0.8322 - tp: 4371.0000 - fp: 93941.0000 - tn: 328602.0000 - fn: 585.0000 - accuracy: 0.7789 - precision: 0.0445 - recall: 0.8820 - auc: 0.9084 - prc: 0.2236\n",
      "Epoch 10/100\n",
      "428/428 [==============================] - 4s 10ms/step - loss: 0.8234 - tp: 4394.0000 - fp: 94829.0000 - tn: 327714.0000 - fn: 562.0000 - accuracy: 0.7769 - precision: 0.0443 - recall: 0.8866 - auc: 0.9099 - prc: 0.2226\n",
      "Epoch 11/100\n",
      "428/428 [==============================] - 4s 10ms/step - loss: 0.8233 - tp: 4403.0000 - fp: 96771.0000 - tn: 325772.0000 - fn: 553.0000 - accuracy: 0.7723 - precision: 0.0435 - recall: 0.8884 - auc: 0.9106 - prc: 0.2278\n",
      "Epoch 12/100\n",
      "428/428 [==============================] - 5s 12ms/step - loss: 0.8094 - tp: 4422.0000 - fp: 96152.0000 - tn: 326391.0000 - fn: 534.0000 - accuracy: 0.7738 - precision: 0.0440 - recall: 0.8923 - auc: 0.9125 - prc: 0.2251\n",
      "Epoch 13/100\n",
      "428/428 [==============================] - 4s 10ms/step - loss: 0.7994 - tp: 4434.0000 - fp: 94113.0000 - tn: 328430.0000 - fn: 522.0000 - accuracy: 0.7786 - precision: 0.0450 - recall: 0.8947 - auc: 0.9144 - prc: 0.2325\n",
      "Epoch 14/100\n",
      "428/428 [==============================] - 4s 10ms/step - loss: 0.7931 - tp: 4445.0000 - fp: 93056.0000 - tn: 329487.0000 - fn: 511.0000 - accuracy: 0.7811 - precision: 0.0456 - recall: 0.8969 - auc: 0.9156 - prc: 0.2323\n",
      "Epoch 15/100\n",
      "428/428 [==============================] - 4s 10ms/step - loss: 0.7878 - tp: 4445.0000 - fp: 92174.0000 - tn: 330369.0000 - fn: 511.0000 - accuracy: 0.7832 - precision: 0.0460 - recall: 0.8969 - auc: 0.9179 - prc: 0.2379\n",
      "Epoch 16/100\n",
      "428/428 [==============================] - 4s 10ms/step - loss: 0.7790 - tp: 4455.0000 - fp: 93904.0000 - tn: 328639.0000 - fn: 501.0000 - accuracy: 0.7792 - precision: 0.0453 - recall: 0.8989 - auc: 0.9178 - prc: 0.2436\n",
      "Epoch 17/100\n",
      "428/428 [==============================] - 4s 10ms/step - loss: 0.7777 - tp: 4472.0000 - fp: 92988.0000 - tn: 329555.0000 - fn: 484.0000 - accuracy: 0.7814 - precision: 0.0459 - recall: 0.9023 - auc: 0.9191 - prc: 0.2483\n",
      "Epoch 18/100\n",
      "428/428 [==============================] - 4s 10ms/step - loss: 0.7630 - tp: 4462.0000 - fp: 92242.0000 - tn: 330301.0000 - fn: 494.0000 - accuracy: 0.7831 - precision: 0.0461 - recall: 0.9003 - auc: 0.9215 - prc: 0.2512\n",
      "Epoch 19/100\n",
      "428/428 [==============================] - 5s 12ms/step - loss: 0.7740 - tp: 4473.0000 - fp: 94012.0000 - tn: 328531.0000 - fn: 483.0000 - accuracy: 0.7790 - precision: 0.0454 - recall: 0.9025 - auc: 0.9194 - prc: 0.2469\n",
      "Epoch 20/100\n",
      "428/428 [==============================] - 4s 10ms/step - loss: 0.7632 - tp: 4474.0000 - fp: 93154.0000 - tn: 329389.0000 - fn: 482.0000 - accuracy: 0.7810 - precision: 0.0458 - recall: 0.9027 - auc: 0.9212 - prc: 0.2509\n",
      "Epoch 21/100\n",
      "428/428 [==============================] - 4s 10ms/step - loss: 0.7543 - tp: 4477.0000 - fp: 92088.0000 - tn: 330455.0000 - fn: 479.0000 - accuracy: 0.7835 - precision: 0.0464 - recall: 0.9033 - auc: 0.9229 - prc: 0.2529\n",
      "Epoch 22/100\n",
      "428/428 [==============================] - 5s 11ms/step - loss: 0.7600 - tp: 4487.0000 - fp: 93567.0000 - tn: 328976.0000 - fn: 469.0000 - accuracy: 0.7800 - precision: 0.0458 - recall: 0.9054 - auc: 0.9223 - prc: 0.2566\n",
      "Epoch 23/100\n",
      "428/428 [==============================] - 4s 10ms/step - loss: 0.7587 - tp: 4472.0000 - fp: 91294.0000 - tn: 331249.0000 - fn: 484.0000 - accuracy: 0.7853 - precision: 0.0467 - recall: 0.9023 - auc: 0.9227 - prc: 0.2554\n",
      "Epoch 24/100\n",
      "428/428 [==============================] - 5s 11ms/step - loss: 0.7491 - tp: 4502.0000 - fp: 92075.0000 - tn: 330468.0000 - fn: 454.0000 - accuracy: 0.7836 - precision: 0.0466 - recall: 0.9084 - auc: 0.9240 - prc: 0.2597\n",
      "Epoch 25/100\n",
      "428/428 [==============================] - 5s 11ms/step - loss: 0.7522 - tp: 4501.0000 - fp: 91803.0000 - tn: 330740.0000 - fn: 455.0000 - accuracy: 0.7842 - precision: 0.0467 - recall: 0.9082 - auc: 0.9235 - prc: 0.2604\n",
      "Epoch 26/100\n",
      "428/428 [==============================] - 5s 12ms/step - loss: 0.7433 - tp: 4489.0000 - fp: 91857.0000 - tn: 330686.0000 - fn: 467.0000 - accuracy: 0.7840 - precision: 0.0466 - recall: 0.9058 - auc: 0.9250 - prc: 0.2590\n",
      "Epoch 27/100\n",
      "428/428 [==============================] - 5s 11ms/step - loss: 0.7364 - tp: 4514.0000 - fp: 90433.0000 - tn: 332110.0000 - fn: 442.0000 - accuracy: 0.7874 - precision: 0.0475 - recall: 0.9108 - auc: 0.9269 - prc: 0.2560\n",
      "Epoch 28/100\n",
      "428/428 [==============================] - 5s 11ms/step - loss: 0.7380 - tp: 4517.0000 - fp: 92199.0000 - tn: 330344.0000 - fn: 439.0000 - accuracy: 0.7833 - precision: 0.0467 - recall: 0.9114 - auc: 0.9259 - prc: 0.2640\n",
      "Epoch 29/100\n",
      "428/428 [==============================] - 5s 11ms/step - loss: 0.7377 - tp: 4527.0000 - fp: 92826.0000 - tn: 329717.0000 - fn: 429.0000 - accuracy: 0.7819 - precision: 0.0465 - recall: 0.9134 - auc: 0.9262 - prc: 0.2638\n",
      "Epoch 30/100\n",
      "428/428 [==============================] - 4s 10ms/step - loss: 0.7305 - tp: 4506.0000 - fp: 91510.0000 - tn: 331033.0000 - fn: 450.0000 - accuracy: 0.7849 - precision: 0.0469 - recall: 0.9092 - auc: 0.9275 - prc: 0.2624\n",
      "Epoch 31/100\n",
      "428/428 [==============================] - 5s 11ms/step - loss: 0.7421 - tp: 4513.0000 - fp: 93481.0000 - tn: 329062.0000 - fn: 443.0000 - accuracy: 0.7803 - precision: 0.0461 - recall: 0.9106 - auc: 0.9255 - prc: 0.2612\n",
      "Epoch 32/100\n",
      "428/428 [==============================] - 5s 11ms/step - loss: 0.7259 - tp: 4527.0000 - fp: 90264.0000 - tn: 332279.0000 - fn: 429.0000 - accuracy: 0.7879 - precision: 0.0478 - recall: 0.9134 - auc: 0.9281 - prc: 0.2611\n",
      "Epoch 33/100\n",
      "428/428 [==============================] - 5s 12ms/step - loss: 0.7279 - tp: 4534.0000 - fp: 92264.0000 - tn: 330279.0000 - fn: 422.0000 - accuracy: 0.7832 - precision: 0.0468 - recall: 0.9149 - auc: 0.9277 - prc: 0.2618\n",
      "Epoch 34/100\n",
      "428/428 [==============================] - 5s 11ms/step - loss: 0.7305 - tp: 4534.0000 - fp: 91878.0000 - tn: 330665.0000 - fn: 422.0000 - accuracy: 0.7841 - precision: 0.0470 - recall: 0.9149 - auc: 0.9278 - prc: 0.2629\n",
      "Epoch 35/100\n",
      "428/428 [==============================] - 4s 10ms/step - loss: 0.7212 - tp: 4498.0000 - fp: 90110.0000 - tn: 332433.0000 - fn: 458.0000 - accuracy: 0.7881 - precision: 0.0475 - recall: 0.9076 - auc: 0.9289 - prc: 0.2705\n",
      "Epoch 36/100\n",
      "428/428 [==============================] - 5s 11ms/step - loss: 0.7247 - tp: 4532.0000 - fp: 92247.0000 - tn: 330296.0000 - fn: 424.0000 - accuracy: 0.7832 - precision: 0.0468 - recall: 0.9144 - auc: 0.9287 - prc: 0.2689\n",
      "Epoch 37/100\n",
      "428/428 [==============================] - 4s 10ms/step - loss: 0.7201 - tp: 4528.0000 - fp: 91948.0000 - tn: 330595.0000 - fn: 428.0000 - accuracy: 0.7839 - precision: 0.0469 - recall: 0.9136 - auc: 0.9291 - prc: 0.2726\n",
      "Epoch 38/100\n",
      "428/428 [==============================] - 5s 11ms/step - loss: 0.7135 - tp: 4517.0000 - fp: 90071.0000 - tn: 332472.0000 - fn: 439.0000 - accuracy: 0.7883 - precision: 0.0478 - recall: 0.9114 - auc: 0.9300 - prc: 0.2696\n",
      "Epoch 39/100\n",
      "428/428 [==============================] - 5s 11ms/step - loss: 0.7133 - tp: 4539.0000 - fp: 92036.0000 - tn: 330507.0000 - fn: 417.0000 - accuracy: 0.7837 - precision: 0.0470 - recall: 0.9159 - auc: 0.9301 - prc: 0.2737\n",
      "Epoch 40/100\n",
      "428/428 [==============================] - 5s 12ms/step - loss: 0.7181 - tp: 4540.0000 - fp: 91473.0000 - tn: 331070.0000 - fn: 416.0000 - accuracy: 0.7851 - precision: 0.0473 - recall: 0.9161 - auc: 0.9304 - prc: 0.2640\n",
      "Epoch 41/100\n",
      "428/428 [==============================] - 5s 11ms/step - loss: 0.7155 - tp: 4534.0000 - fp: 92869.0000 - tn: 329674.0000 - fn: 422.0000 - accuracy: 0.7818 - precision: 0.0465 - recall: 0.9149 - auc: 0.9300 - prc: 0.2701\n",
      "Epoch 42/100\n",
      "428/428 [==============================] - 4s 10ms/step - loss: 0.7111 - tp: 4548.0000 - fp: 90731.0000 - tn: 331812.0000 - fn: 408.0000 - accuracy: 0.7868 - precision: 0.0477 - recall: 0.9177 - auc: 0.9312 - prc: 0.2685\n",
      "Epoch 43/100\n",
      "428/428 [==============================] - 5s 11ms/step - loss: 0.7071 - tp: 4552.0000 - fp: 90095.0000 - tn: 332448.0000 - fn: 404.0000 - accuracy: 0.7883 - precision: 0.0481 - recall: 0.9185 - auc: 0.9318 - prc: 0.2676\n",
      "Epoch 44/100\n",
      "428/428 [==============================] - 5s 11ms/step - loss: 0.7055 - tp: 4534.0000 - fp: 89936.0000 - tn: 332607.0000 - fn: 422.0000 - accuracy: 0.7886 - precision: 0.0480 - recall: 0.9149 - auc: 0.9313 - prc: 0.2698\n",
      "Epoch 45/100\n",
      "428/428 [==============================] - 6s 14ms/step - loss: 0.7099 - tp: 4551.0000 - fp: 92732.0000 - tn: 329811.0000 - fn: 405.0000 - accuracy: 0.7821 - precision: 0.0468 - recall: 0.9183 - auc: 0.9313 - prc: 0.2671\n",
      "Epoch 46/100\n",
      "428/428 [==============================] - 5s 12ms/step - loss: 0.7036 - tp: 4562.0000 - fp: 90842.0000 - tn: 331701.0000 - fn: 394.0000 - accuracy: 0.7866 - precision: 0.0478 - recall: 0.9205 - auc: 0.9320 - prc: 0.2720\n",
      "Epoch 47/100\n",
      "428/428 [==============================] - 5s 13ms/step - loss: 0.7022 - tp: 4560.0000 - fp: 89642.0000 - tn: 332901.0000 - fn: 396.0000 - accuracy: 0.7894 - precision: 0.0484 - recall: 0.9201 - auc: 0.9329 - prc: 0.2688\n",
      "Epoch 48/100\n",
      "428/428 [==============================] - 5s 11ms/step - loss: 0.7035 - tp: 4531.0000 - fp: 89625.0000 - tn: 332918.0000 - fn: 425.0000 - accuracy: 0.7894 - precision: 0.0481 - recall: 0.9142 - auc: 0.9326 - prc: 0.2775\n",
      "Epoch 49/100\n",
      "428/428 [==============================] - 5s 11ms/step - loss: 0.6928 - tp: 4554.0000 - fp: 89295.0000 - tn: 333248.0000 - fn: 402.0000 - accuracy: 0.7902 - precision: 0.0485 - recall: 0.9189 - auc: 0.9338 - prc: 0.2763\n",
      "Epoch 50/100\n",
      "428/428 [==============================] - 5s 11ms/step - loss: 0.7018 - tp: 4545.0000 - fp: 91887.0000 - tn: 330656.0000 - fn: 411.0000 - accuracy: 0.7841 - precision: 0.0471 - recall: 0.9171 - auc: 0.9324 - prc: 0.2786\n",
      "Epoch 51/100\n",
      "428/428 [==============================] - 4s 10ms/step - loss: 0.6994 - tp: 4570.0000 - fp: 92646.0000 - tn: 329897.0000 - fn: 386.0000 - accuracy: 0.7824 - precision: 0.0470 - recall: 0.9221 - auc: 0.9328 - prc: 0.2723\n",
      "Epoch 52/100\n",
      "428/428 [==============================] - 5s 11ms/step - loss: 0.6975 - tp: 4544.0000 - fp: 89621.0000 - tn: 332922.0000 - fn: 412.0000 - accuracy: 0.7894 - precision: 0.0483 - recall: 0.9169 - auc: 0.9332 - prc: 0.2695\n",
      "Epoch 53/100\n",
      "428/428 [==============================] - 5s 12ms/step - loss: 0.6952 - tp: 4552.0000 - fp: 90898.0000 - tn: 331645.0000 - fn: 404.0000 - accuracy: 0.7864 - precision: 0.0477 - recall: 0.9185 - auc: 0.9331 - prc: 0.2715\n",
      "Epoch 54/100\n",
      "428/428 [==============================] - 5s 11ms/step - loss: 0.6992 - tp: 4557.0000 - fp: 90387.0000 - tn: 332156.0000 - fn: 399.0000 - accuracy: 0.7876 - precision: 0.0480 - recall: 0.9195 - auc: 0.9329 - prc: 0.2728\n",
      "Epoch 55/100\n",
      "428/428 [==============================] - 5s 11ms/step - loss: 0.6913 - tp: 4553.0000 - fp: 90000.0000 - tn: 332543.0000 - fn: 403.0000 - accuracy: 0.7885 - precision: 0.0482 - recall: 0.9187 - auc: 0.9338 - prc: 0.2759\n",
      "Epoch 56/100\n",
      "428/428 [==============================] - 4s 10ms/step - loss: 0.6917 - tp: 4567.0000 - fp: 90497.0000 - tn: 332046.0000 - fn: 389.0000 - accuracy: 0.7874 - precision: 0.0480 - recall: 0.9215 - auc: 0.9345 - prc: 0.2795\n",
      "Epoch 57/100\n",
      "428/428 [==============================] - 4s 10ms/step - loss: 0.6941 - tp: 4561.0000 - fp: 90908.0000 - tn: 331635.0000 - fn: 395.0000 - accuracy: 0.7864 - precision: 0.0478 - recall: 0.9203 - auc: 0.9338 - prc: 0.2742\n",
      "Epoch 58/100\n",
      "428/428 [==============================] - 4s 10ms/step - loss: 0.6916 - tp: 4549.0000 - fp: 88317.0000 - tn: 334226.0000 - fn: 407.0000 - accuracy: 0.7925 - precision: 0.0490 - recall: 0.9179 - auc: 0.9349 - prc: 0.2764\n",
      "Epoch 59/100\n",
      "428/428 [==============================] - 5s 11ms/step - loss: 0.6840 - tp: 4579.0000 - fp: 89737.0000 - tn: 332806.0000 - fn: 377.0000 - accuracy: 0.7892 - precision: 0.0485 - recall: 0.9239 - auc: 0.9354 - prc: 0.2718\n",
      "Epoch 60/100\n",
      "428/428 [==============================] - 5s 12ms/step - loss: 0.6873 - tp: 4558.0000 - fp: 89403.0000 - tn: 333140.0000 - fn: 398.0000 - accuracy: 0.7899 - precision: 0.0485 - recall: 0.9197 - auc: 0.9347 - prc: 0.2789\n",
      "Epoch 61/100\n",
      "428/428 [==============================] - 4s 10ms/step - loss: 0.6908 - tp: 4556.0000 - fp: 90019.0000 - tn: 332524.0000 - fn: 400.0000 - accuracy: 0.7885 - precision: 0.0482 - recall: 0.9193 - auc: 0.9347 - prc: 0.2839\n",
      "Epoch 62/100\n",
      "428/428 [==============================] - 5s 11ms/step - loss: 0.6837 - tp: 4564.0000 - fp: 88277.0000 - tn: 334266.0000 - fn: 392.0000 - accuracy: 0.7926 - precision: 0.0492 - recall: 0.9209 - auc: 0.9358 - prc: 0.2782\n",
      "Epoch 63/100\n",
      "428/428 [==============================] - 4s 10ms/step - loss: 0.6909 - tp: 4574.0000 - fp: 89929.0000 - tn: 332614.0000 - fn: 382.0000 - accuracy: 0.7887 - precision: 0.0484 - recall: 0.9229 - auc: 0.9345 - prc: 0.2799\n",
      "Epoch 64/100\n",
      "428/428 [==============================] - 4s 10ms/step - loss: 0.6822 - tp: 4565.0000 - fp: 88536.0000 - tn: 334007.0000 - fn: 391.0000 - accuracy: 0.7920 - precision: 0.0490 - recall: 0.9211 - auc: 0.9360 - prc: 0.2831\n",
      "Epoch 65/100\n",
      "428/428 [==============================] - 4s 10ms/step - loss: 0.6809 - tp: 4542.0000 - fp: 89966.0000 - tn: 332577.0000 - fn: 414.0000 - accuracy: 0.7886 - precision: 0.0481 - recall: 0.9165 - auc: 0.9358 - prc: 0.2835\n",
      "Epoch 66/100\n",
      "428/428 [==============================] - 5s 11ms/step - loss: 0.6859 - tp: 4571.0000 - fp: 88093.0000 - tn: 334450.0000 - fn: 385.0000 - accuracy: 0.7930 - precision: 0.0493 - recall: 0.9223 - auc: 0.9355 - prc: 0.2808\n",
      "Epoch 67/100\n",
      "428/428 [==============================] - 5s 12ms/step - loss: 0.6817 - tp: 4577.0000 - fp: 90480.0000 - tn: 332063.0000 - fn: 379.0000 - accuracy: 0.7875 - precision: 0.0482 - recall: 0.9235 - auc: 0.9356 - prc: 0.2813\n",
      "Epoch 68/100\n",
      "428/428 [==============================] - 4s 10ms/step - loss: 0.6834 - tp: 4561.0000 - fp: 88588.0000 - tn: 333955.0000 - fn: 395.0000 - accuracy: 0.7919 - precision: 0.0490 - recall: 0.9203 - auc: 0.9356 - prc: 0.2809\n",
      "Epoch 69/100\n",
      "428/428 [==============================] - 5s 11ms/step - loss: 0.6762 - tp: 4577.0000 - fp: 88563.0000 - tn: 333980.0000 - fn: 379.0000 - accuracy: 0.7919 - precision: 0.0491 - recall: 0.9235 - auc: 0.9367 - prc: 0.2817\n",
      "Epoch 70/100\n",
      "428/428 [==============================] - 4s 10ms/step - loss: 0.6831 - tp: 4560.0000 - fp: 89344.0000 - tn: 333199.0000 - fn: 396.0000 - accuracy: 0.7901 - precision: 0.0486 - recall: 0.9201 - auc: 0.9362 - prc: 0.2827\n",
      "Epoch 71/100\n",
      "428/428 [==============================] - 5s 11ms/step - loss: 0.6775 - tp: 4568.0000 - fp: 88322.0000 - tn: 334221.0000 - fn: 388.0000 - accuracy: 0.7925 - precision: 0.0492 - recall: 0.9217 - auc: 0.9363 - prc: 0.2782\n",
      "Epoch 72/100\n",
      "428/428 [==============================] - 4s 10ms/step - loss: 0.6773 - tp: 4601.0000 - fp: 90148.0000 - tn: 332395.0000 - fn: 355.0000 - accuracy: 0.7883 - precision: 0.0486 - recall: 0.9284 - auc: 0.9370 - prc: 0.2845\n",
      "Epoch 73/100\n",
      "428/428 [==============================] - 5s 11ms/step - loss: 0.6718 - tp: 4573.0000 - fp: 89118.0000 - tn: 333425.0000 - fn: 383.0000 - accuracy: 0.7906 - precision: 0.0488 - recall: 0.9227 - auc: 0.9373 - prc: 0.2827\n",
      "Epoch 74/100\n",
      "428/428 [==============================] - 5s 12ms/step - loss: 0.6734 - tp: 4569.0000 - fp: 89215.0000 - tn: 333328.0000 - fn: 387.0000 - accuracy: 0.7904 - precision: 0.0487 - recall: 0.9219 - auc: 0.9371 - prc: 0.2869\n",
      "Epoch 75/100\n",
      "428/428 [==============================] - 4s 10ms/step - loss: 0.6636 - tp: 4597.0000 - fp: 87309.0000 - tn: 335234.0000 - fn: 359.0000 - accuracy: 0.7949 - precision: 0.0500 - recall: 0.9276 - auc: 0.9384 - prc: 0.2876\n",
      "Epoch 76/100\n",
      "428/428 [==============================] - 5s 11ms/step - loss: 0.6743 - tp: 4585.0000 - fp: 88915.0000 - tn: 333628.0000 - fn: 371.0000 - accuracy: 0.7911 - precision: 0.0490 - recall: 0.9251 - auc: 0.9372 - prc: 0.2907\n",
      "Epoch 77/100\n",
      "428/428 [==============================] - 5s 11ms/step - loss: 0.6632 - tp: 4575.0000 - fp: 86513.0000 - tn: 336030.0000 - fn: 381.0000 - accuracy: 0.7967 - precision: 0.0502 - recall: 0.9231 - auc: 0.9385 - prc: 0.2823\n",
      "Epoch 78/100\n",
      "428/428 [==============================] - 4s 10ms/step - loss: 0.6654 - tp: 4586.0000 - fp: 87014.0000 - tn: 335529.0000 - fn: 370.0000 - accuracy: 0.7956 - precision: 0.0501 - recall: 0.9253 - auc: 0.9387 - prc: 0.2907\n",
      "Epoch 79/100\n",
      "428/428 [==============================] - 5s 11ms/step - loss: 0.6660 - tp: 4581.0000 - fp: 88482.0000 - tn: 334061.0000 - fn: 375.0000 - accuracy: 0.7921 - precision: 0.0492 - recall: 0.9243 - auc: 0.9381 - prc: 0.2864\n",
      "Epoch 80/100\n",
      "428/428 [==============================] - 4s 10ms/step - loss: 0.6646 - tp: 4595.0000 - fp: 88806.0000 - tn: 333737.0000 - fn: 361.0000 - accuracy: 0.7914 - precision: 0.0492 - recall: 0.9272 - auc: 0.9385 - prc: 0.2842\n",
      "Epoch 81/100\n",
      "428/428 [==============================] - 5s 12ms/step - loss: 0.6708 - tp: 4578.0000 - fp: 87851.0000 - tn: 334692.0000 - fn: 378.0000 - accuracy: 0.7936 - precision: 0.0495 - recall: 0.9237 - auc: 0.9377 - prc: 0.2798\n",
      "Epoch 82/100\n",
      "428/428 [==============================] - 4s 10ms/step - loss: 0.6687 - tp: 4580.0000 - fp: 89656.0000 - tn: 332887.0000 - fn: 376.0000 - accuracy: 0.7894 - precision: 0.0486 - recall: 0.9241 - auc: 0.9378 - prc: 0.2891\n",
      "Epoch 83/100\n",
      "428/428 [==============================] - 5s 11ms/step - loss: 0.6798 - tp: 4574.0000 - fp: 89288.0000 - tn: 333255.0000 - fn: 382.0000 - accuracy: 0.7902 - precision: 0.0487 - recall: 0.9229 - auc: 0.9374 - prc: 0.2888\n",
      "Epoch 84/100\n",
      "428/428 [==============================] - 5s 11ms/step - loss: 0.6634 - tp: 4563.0000 - fp: 86753.0000 - tn: 335790.0000 - fn: 393.0000 - accuracy: 0.7961 - precision: 0.0500 - recall: 0.9207 - auc: 0.9385 - prc: 0.2895\n",
      "Epoch 85/100\n",
      "428/428 [==============================] - 4s 11ms/step - loss: 0.6683 - tp: 4585.0000 - fp: 88062.0000 - tn: 334481.0000 - fn: 371.0000 - accuracy: 0.7931 - precision: 0.0495 - recall: 0.9251 - auc: 0.9380 - prc: 0.2857\n",
      "Epoch 86/100\n",
      "428/428 [==============================] - 4s 10ms/step - loss: 0.6635 - tp: 4572.0000 - fp: 87088.0000 - tn: 335455.0000 - fn: 384.0000 - accuracy: 0.7954 - precision: 0.0499 - recall: 0.9225 - auc: 0.9390 - prc: 0.2902\n",
      "Epoch 87/100\n",
      "428/428 [==============================] - 4s 10ms/step - loss: 0.6698 - tp: 4586.0000 - fp: 88407.0000 - tn: 334136.0000 - fn: 370.0000 - accuracy: 0.7923 - precision: 0.0493 - recall: 0.9253 - auc: 0.9383 - prc: 0.2793\n",
      "Epoch 88/100\n",
      "428/428 [==============================] - 5s 12ms/step - loss: 0.6638 - tp: 4581.0000 - fp: 86928.0000 - tn: 335615.0000 - fn: 375.0000 - accuracy: 0.7958 - precision: 0.0501 - recall: 0.9243 - auc: 0.9391 - prc: 0.2837\n",
      "Epoch 89/100\n",
      "428/428 [==============================] - 4s 10ms/step - loss: 0.6574 - tp: 4585.0000 - fp: 86877.0000 - tn: 335666.0000 - fn: 371.0000 - accuracy: 0.7959 - precision: 0.0501 - recall: 0.9251 - auc: 0.9397 - prc: 0.2891\n",
      "Epoch 90/100\n",
      "428/428 [==============================] - 5s 11ms/step - loss: 0.6622 - tp: 4587.0000 - fp: 86784.0000 - tn: 335759.0000 - fn: 369.0000 - accuracy: 0.7961 - precision: 0.0502 - recall: 0.9255 - auc: 0.9391 - prc: 0.2856\n",
      "Epoch 91/100\n",
      "428/428 [==============================] - 5s 11ms/step - loss: 0.6594 - tp: 4596.0000 - fp: 88158.0000 - tn: 334385.0000 - fn: 360.0000 - accuracy: 0.7929 - precision: 0.0496 - recall: 0.9274 - auc: 0.9392 - prc: 0.2894\n",
      "Epoch 92/100\n",
      "428/428 [==============================] - 5s 11ms/step - loss: 0.6658 - tp: 4597.0000 - fp: 89602.0000 - tn: 332941.0000 - fn: 359.0000 - accuracy: 0.7896 - precision: 0.0488 - recall: 0.9276 - auc: 0.9384 - prc: 0.2895\n",
      "Epoch 93/100\n",
      "428/428 [==============================] - 4s 10ms/step - loss: 0.6548 - tp: 4599.0000 - fp: 87543.0000 - tn: 335000.0000 - fn: 357.0000 - accuracy: 0.7944 - precision: 0.0499 - recall: 0.9280 - auc: 0.9403 - prc: 0.2873\n",
      "Epoch 94/100\n",
      "428/428 [==============================] - 4s 10ms/step - loss: 0.6563 - tp: 4611.0000 - fp: 87946.0000 - tn: 334597.0000 - fn: 345.0000 - accuracy: 0.7935 - precision: 0.0498 - recall: 0.9304 - auc: 0.9399 - prc: 0.2796\n",
      "Epoch 95/100\n",
      "428/428 [==============================] - 5s 12ms/step - loss: 0.6612 - tp: 4586.0000 - fp: 87882.0000 - tn: 334661.0000 - fn: 370.0000 - accuracy: 0.7936 - precision: 0.0496 - recall: 0.9253 - auc: 0.9392 - prc: 0.2831\n",
      "Epoch 96/100\n",
      "428/428 [==============================] - 4s 10ms/step - loss: 0.6456 - tp: 4590.0000 - fp: 86570.0000 - tn: 335973.0000 - fn: 366.0000 - accuracy: 0.7966 - precision: 0.0504 - recall: 0.9262 - auc: 0.9411 - prc: 0.2844\n",
      "Epoch 97/100\n",
      "428/428 [==============================] - 4s 10ms/step - loss: 0.6681 - tp: 4588.0000 - fp: 87894.0000 - tn: 334649.0000 - fn: 368.0000 - accuracy: 0.7935 - precision: 0.0496 - recall: 0.9257 - auc: 0.9385 - prc: 0.2855\n",
      "Epoch 98/100\n",
      "428/428 [==============================] - 4s 10ms/step - loss: 0.6510 - tp: 4585.0000 - fp: 85571.0000 - tn: 336972.0000 - fn: 371.0000 - accuracy: 0.7990 - precision: 0.0509 - recall: 0.9251 - auc: 0.9407 - prc: 0.2798\n",
      "Epoch 99/100\n",
      "428/428 [==============================] - 5s 11ms/step - loss: 0.6467 - tp: 4620.0000 - fp: 86869.0000 - tn: 335674.0000 - fn: 336.0000 - accuracy: 0.7960 - precision: 0.0505 - recall: 0.9322 - auc: 0.9415 - prc: 0.2916\n",
      "Epoch 100/100\n",
      "428/428 [==============================] - 5s 11ms/step - loss: 0.6514 - tp: 4603.0000 - fp: 87953.0000 - tn: 334590.0000 - fn: 353.0000 - accuracy: 0.7934 - precision: 0.0497 - recall: 0.9288 - auc: 0.9407 - prc: 0.2845\n",
      "ROC score: 0.9265027318167888\n"
     ]
    }
   ],
   "source": [
    "model_9 = make_model()\n",
    "weights = {0:1,1:100}\n",
    "model_9.fit(X_train_, y_train.values,epochs = 100,class_weight = weights,batch_size=1000)\n",
    "y_pred_ = model_9.predict(X_test_).flatten()\n",
    "print(f\"ROC score: {roc_auc_score(y_test,y_pred_)}\")"
   ]
  },
  {
   "cell_type": "code",
   "execution_count": 46,
   "id": "aa9ded26",
   "metadata": {
    "execution": {
     "iopub.execute_input": "2022-02-23T11:46:05.702862Z",
     "iopub.status.busy": "2022-02-23T11:46:05.702078Z",
     "iopub.status.idle": "2022-02-23T11:48:07.174840Z",
     "shell.execute_reply": "2022-02-23T11:48:07.174182Z",
     "shell.execute_reply.started": "2022-02-23T07:23:43.859054Z"
    },
    "papermill": {
     "duration": 124.921728,
     "end_time": "2022-02-23T11:48:07.175034",
     "exception": false,
     "start_time": "2022-02-23T11:46:02.253306",
     "status": "completed"
    },
    "tags": []
   },
   "outputs": [
    {
     "name": "stdout",
     "output_type": "stream",
     "text": [
      "[11:46:13] WARNING: ../src/learner.cc:1115: Starting in XGBoost 1.3.0, the default evaluation metric used with the objective 'binary:logistic' was changed from 'error' to 'logloss'. Explicitly set eval_metric if you'd like to restore the old behavior.\n",
      "[11:46:18] WARNING: ../src/learner.cc:1115: Starting in XGBoost 1.3.0, the default evaluation metric used with the objective 'binary:logistic' was changed from 'error' to 'logloss'. Explicitly set eval_metric if you'd like to restore the old behavior.\n",
      "[11:46:22] WARNING: ../src/learner.cc:1115: Starting in XGBoost 1.3.0, the default evaluation metric used with the objective 'binary:logistic' was changed from 'error' to 'logloss'. Explicitly set eval_metric if you'd like to restore the old behavior.\n",
      "[11:47:14] WARNING: ../src/learner.cc:1115: Starting in XGBoost 1.3.0, the default evaluation metric used with the objective 'binary:logistic' was changed from 'error' to 'logloss'. Explicitly set eval_metric if you'd like to restore the old behavior.\n",
      "[[18513  3726]\n",
      " [   32   229]]\n",
      "\n",
      "Accuracy: 0.8329777777777778\n",
      "              precision    recall  f1-score   support\n",
      "\n",
      "           0       1.00      0.83      0.91     22239\n",
      "           1       0.06      0.88      0.11       261\n",
      "\n",
      "    accuracy                           0.83     22500\n",
      "   macro avg       0.53      0.85      0.51     22500\n",
      "weighted avg       0.99      0.83      0.90     22500\n",
      "\n",
      "ROC-AUC score: 0.9198909995367291\n",
      "Best Threshold=0.462404\n"
     ]
    },
    {
     "data": {
      "image/png": "[encoded data removed]",
      "text/plain": [
       "<Figure size 576x432 with 1 Axes>"
      ]
     },
     "metadata": {
      "needs_background": "light"
     },
     "output_type": "display_data"
    },
    {
     "name": "stdout",
     "output_type": "stream",
     "text": [
      "Best Threshold=0.037970\n"
     ]
    },
    {
     "data": {
      "image/png": "[encoded data removed]",
      "text/plain": [
       "<Figure size 432x288 with 1 Axes>"
      ]
     },
     "metadata": {
      "needs_background": "light"
     },
     "output_type": "display_data"
    }
   ],
   "source": [
    "from mlxtend.classifier import StackingCVClassifier\n",
    "model = StackingCVClassifier(classifiers=(model_4,model_5,model_6,model_8),\n",
    "        meta_classifier=model_8,use_features_in_secondary=True,cv=3,\n",
    "        random_state=42)\n",
    "model.fit(X_under,y_under)\n",
    "\n",
    "model_evaluation(model,X_test,y_test)\n",
    "plot_roc_curve(model,X_test,y_test)\n",
    "prec_recall_curve(model,X_test,y_test)"
   ]
  },
  {
   "cell_type": "code",
   "execution_count": 47,
   "id": "34ca0978",
   "metadata": {
    "execution": {
     "iopub.execute_input": "2022-02-23T11:48:13.895014Z",
     "iopub.status.busy": "2022-02-23T11:48:13.894330Z",
     "iopub.status.idle": "2022-02-23T11:48:13.897738Z",
     "shell.execute_reply": "2022-02-23T11:48:13.897233Z",
     "shell.execute_reply.started": "2022-02-23T10:29:35.948763Z"
    },
    "papermill": {
     "duration": 3.415163,
     "end_time": "2022-02-23T11:48:13.897877",
     "exception": false,
     "start_time": "2022-02-23T11:48:10.482714",
     "status": "completed"
    },
    "tags": []
   },
   "outputs": [],
   "source": [
    "best_model = model_3"
   ]
  },
  {
   "cell_type": "code",
   "execution_count": 48,
   "id": "495aaedb",
   "metadata": {
    "execution": {
     "iopub.execute_input": "2022-02-23T11:48:20.510706Z",
     "iopub.status.busy": "2022-02-23T11:48:20.509763Z",
     "iopub.status.idle": "2022-02-23T11:55:22.844790Z",
     "shell.execute_reply": "2022-02-23T11:55:22.845364Z",
     "shell.execute_reply.started": "2022-02-23T10:29:30.660043Z"
    },
    "papermill": {
     "duration": 425.650287,
     "end_time": "2022-02-23T11:55:22.845605",
     "exception": false,
     "start_time": "2022-02-23T11:48:17.195318",
     "status": "completed"
    },
    "tags": []
   },
   "outputs": [],
   "source": [
    "final_pred = best_model.predict_proba(test_dataset)[:,1]\n",
    "my_submission = pd.DataFrame({'order_id':id, 'cancelled': final_pred})\n",
    "my_submission.to_csv('submission4.csv',index=False)"
   ]
  }
 ],
 "metadata": {
  "kernelspec": {
   "display_name": "Python 3",
   "language": "python",
   "name": "python3"
  },
  "language_info": {
   "codemirror_mode": {
    "name": "ipython",
    "version": 3
   },
   "file_extension": ".py",
   "mimetype": "text/x-python",
   "name": "python",
   "nbconvert_exporter": "python",
   "pygments_lexer": "ipython3",
   "version": "3.7.12"
  },
  "papermill": {
   "default_parameters": {},
   "duration": 4994.880515,
   "end_time": "2022-02-23T11:55:29.099039",
   "environment_variables": {},
   "exception": null,
   "input_path": "__notebook__.ipynb",
   "output_path": "__notebook__.ipynb",
   "parameters": {},
   "start_time": "2022-02-23T10:32:14.218524",
   "version": "2.3.3"
  }
 },
 "nbformat": 4,
 "nbformat_minor": 5
}
